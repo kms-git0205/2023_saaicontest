{
 "cells": [
  {
   "cell_type": "markdown",
   "metadata": {
    "id": "mzhhVZa7L1w3"
   },
   "source": [
    "# INPUT"
   ]
  },
  {
   "cell_type": "code",
   "execution_count": 18,
   "metadata": {
    "colab": {
     "base_uri": "https://localhost:8080/",
     "height": 1000
    },
    "collapsed": true,
    "executionInfo": {
     "elapsed": 93944,
     "status": "ok",
     "timestamp": 1694880371657,
     "user": {
      "displayName": "김민석",
      "userId": "11524482620313840880"
     },
     "user_tz": -540
    },
    "id": "2wiZqUO3vD0K",
    "outputId": "00e1abef-25e7-4d30-cf95-397d3ad1747b"
   },
   "outputs": [
    {
     "name": "stdout",
     "output_type": "stream",
     "text": [
      "Requirement already satisfied: absl-py==1.4.0 in /usr/local/lib/python3.10/dist-packages (from -r requirements.txt (line 1)) (1.4.0)\n",
      "Requirement already satisfied: aiohttp==3.8.5 in /usr/local/lib/python3.10/dist-packages (from -r requirements.txt (line 2)) (3.8.5)\n",
      "Requirement already satisfied: aiosignal==1.3.1 in /usr/local/lib/python3.10/dist-packages (from -r requirements.txt (line 3)) (1.3.1)\n",
      "Collecting annotated-types==0.5.0 (from -r requirements.txt (line 4))\n",
      "  Downloading annotated_types-0.5.0-py3-none-any.whl (11 kB)\n",
      "Requirement already satisfied: anyio==3.7.1 in /usr/local/lib/python3.10/dist-packages (from -r requirements.txt (line 5)) (3.7.1)\n",
      "Requirement already satisfied: appdirs==1.4.4 in /usr/local/lib/python3.10/dist-packages (from -r requirements.txt (line 6)) (1.4.4)\n",
      "Requirement already satisfied: argon2-cffi==23.1.0 in /usr/local/lib/python3.10/dist-packages (from -r requirements.txt (line 7)) (23.1.0)\n",
      "Requirement already satisfied: argon2-cffi-bindings==21.2.0 in /usr/local/lib/python3.10/dist-packages (from -r requirements.txt (line 8)) (21.2.0)\n",
      "Collecting arrow==1.2.3 (from -r requirements.txt (line 9))\n",
      "  Downloading arrow-1.2.3-py3-none-any.whl (66 kB)\n",
      "\u001b[2K     \u001b[90m━━━━━━━━━━━━━━━━━━━━━━━━━━━━━━━━━━━━━━━━\u001b[0m \u001b[32m66.4/66.4 kB\u001b[0m \u001b[31m2.5 MB/s\u001b[0m eta \u001b[36m0:00:00\u001b[0m\n",
      "\u001b[?25hCollecting asttokens==2.2.1 (from -r requirements.txt (line 10))\n",
      "  Downloading asttokens-2.2.1-py2.py3-none-any.whl (26 kB)\n",
      "Requirement already satisfied: astunparse==1.6.3 in /usr/local/lib/python3.10/dist-packages (from -r requirements.txt (line 11)) (1.6.3)\n",
      "Collecting async-lru==2.0.4 (from -r requirements.txt (line 12))\n",
      "  Downloading async_lru-2.0.4-py3-none-any.whl (6.1 kB)\n",
      "Requirement already satisfied: async-timeout==4.0.3 in /usr/local/lib/python3.10/dist-packages (from -r requirements.txt (line 13)) (4.0.3)\n",
      "Requirement already satisfied: attrs==23.1.0 in /usr/local/lib/python3.10/dist-packages (from -r requirements.txt (line 14)) (23.1.0)\n",
      "Requirement already satisfied: Babel==2.12.1 in /usr/local/lib/python3.10/dist-packages (from -r requirements.txt (line 15)) (2.12.1)\n",
      "Requirement already satisfied: backcall==0.2.0 in /usr/local/lib/python3.10/dist-packages (from -r requirements.txt (line 16)) (0.2.0)\n",
      "Collecting beautifulsoup4==4.12.2 (from -r requirements.txt (line 17))\n",
      "  Downloading beautifulsoup4-4.12.2-py3-none-any.whl (142 kB)\n",
      "\u001b[2K     \u001b[90m━━━━━━━━━━━━━━━━━━━━━━━━━━━━━━━━━━━━━━━\u001b[0m \u001b[32m143.0/143.0 kB\u001b[0m \u001b[31m9.1 MB/s\u001b[0m eta \u001b[36m0:00:00\u001b[0m\n",
      "\u001b[?25hRequirement already satisfied: bleach==6.0.0 in /usr/local/lib/python3.10/dist-packages (from -r requirements.txt (line 18)) (6.0.0)\n",
      "Requirement already satisfied: blis==0.7.10 in /usr/local/lib/python3.10/dist-packages (from -r requirements.txt (line 19)) (0.7.10)\n",
      "Collecting boto3==1.28.33 (from -r requirements.txt (line 20))\n",
      "  Downloading boto3-1.28.33-py3-none-any.whl (135 kB)\n",
      "\u001b[2K     \u001b[90m━━━━━━━━━━━━━━━━━━━━━━━━━━━━━━━━━━━━━━\u001b[0m \u001b[32m135.8/135.8 kB\u001b[0m \u001b[31m13.9 MB/s\u001b[0m eta \u001b[36m0:00:00\u001b[0m\n",
      "\u001b[?25hCollecting botocore==1.31.33 (from -r requirements.txt (line 21))\n",
      "  Downloading botocore-1.31.33-py3-none-any.whl (11.1 MB)\n",
      "\u001b[2K     \u001b[90m━━━━━━━━━━━━━━━━━━━━━━━━━━━━━━━━━━━━━━━━\u001b[0m \u001b[32m11.1/11.1 MB\u001b[0m \u001b[31m62.8 MB/s\u001b[0m eta \u001b[36m0:00:00\u001b[0m\n",
      "\u001b[?25hCollecting brotlipy==0.7.0 (from -r requirements.txt (line 22))\n",
      "  Downloading brotlipy-0.7.0-cp35-abi3-manylinux2010_x86_64.whl (1.1 MB)\n",
      "\u001b[2K     \u001b[90m━━━━━━━━━━━━━━━━━━━━━━━━━━━━━━━━━━━━━━━━\u001b[0m \u001b[32m1.1/1.1 MB\u001b[0m \u001b[31m71.0 MB/s\u001b[0m eta \u001b[36m0:00:00\u001b[0m\n",
      "\u001b[?25hRequirement already satisfied: cachetools==5.3.1 in /usr/local/lib/python3.10/dist-packages (from -r requirements.txt (line 23)) (5.3.1)\n",
      "Requirement already satisfied: catalogue==2.0.9 in /usr/local/lib/python3.10/dist-packages (from -r requirements.txt (line 24)) (2.0.9)\n",
      "Collecting catboost==1.2.1 (from -r requirements.txt (line 25))\n",
      "  Downloading catboost-1.2.1-cp310-cp310-manylinux2014_x86_64.whl (98.7 MB)\n",
      "\u001b[2K     \u001b[90m━━━━━━━━━━━━━━━━━━━━━━━━━━━━━━━━━━━━━━━━\u001b[0m \u001b[32m98.7/98.7 MB\u001b[0m \u001b[31m11.1 MB/s\u001b[0m eta \u001b[36m0:00:00\u001b[0m\n",
      "\u001b[?25hRequirement already satisfied: certifi==2023.7.22 in /usr/local/lib/python3.10/dist-packages (from -r requirements.txt (line 26)) (2023.7.22)\n",
      "Requirement already satisfied: click==8.1.7 in /usr/local/lib/python3.10/dist-packages (from -r requirements.txt (line 27)) (8.1.7)\n",
      "Collecting clikit==0.6.2 (from -r requirements.txt (line 28))\n",
      "  Downloading clikit-0.6.2-py2.py3-none-any.whl (91 kB)\n",
      "\u001b[2K     \u001b[90m━━━━━━━━━━━━━━━━━━━━━━━━━━━━━━━━━━━━━━━━\u001b[0m \u001b[32m91.8/91.8 kB\u001b[0m \u001b[31m11.5 MB/s\u001b[0m eta \u001b[36m0:00:00\u001b[0m\n",
      "\u001b[?25hCollecting cmake==3.27.2 (from -r requirements.txt (line 29))\n",
      "  Downloading cmake-3.27.2-py2.py3-none-manylinux2014_x86_64.manylinux_2_17_x86_64.whl (26.1 MB)\n",
      "\u001b[2K     \u001b[90m━━━━━━━━━━━━━━━━━━━━━━━━━━━━━━━━━━━━━━━━\u001b[0m \u001b[32m26.1/26.1 MB\u001b[0m \u001b[31m49.1 MB/s\u001b[0m eta \u001b[36m0:00:00\u001b[0m\n",
      "\u001b[?25hCollecting comm==0.1.4 (from -r requirements.txt (line 30))\n",
      "  Downloading comm-0.1.4-py3-none-any.whl (6.6 kB)\n",
      "Collecting confection==0.1.3 (from -r requirements.txt (line 31))\n",
      "  Downloading confection-0.1.3-py3-none-any.whl (34 kB)\n",
      "Requirement already satisfied: contourpy==1.1.0 in /usr/local/lib/python3.10/dist-packages (from -r requirements.txt (line 32)) (1.1.0)\n",
      "Collecting crashtest==0.3.1 (from -r requirements.txt (line 33))\n",
      "  Downloading crashtest-0.3.1-py3-none-any.whl (7.0 kB)\n",
      "Requirement already satisfied: cycler==0.11.0 in /usr/local/lib/python3.10/dist-packages (from -r requirements.txt (line 34)) (0.11.0)\n",
      "Requirement already satisfied: cymem==2.0.7 in /usr/local/lib/python3.10/dist-packages (from -r requirements.txt (line 35)) (2.0.7)\n",
      "Collecting debugpy==1.6.7.post1 (from -r requirements.txt (line 36))\n",
      "  Downloading debugpy-1.6.7.post1-cp310-cp310-manylinux_2_17_x86_64.manylinux2014_x86_64.whl (3.0 MB)\n",
      "\u001b[2K     \u001b[90m━━━━━━━━━━━━━━━━━━━━━━━━━━━━━━━━━━━━━━━━\u001b[0m \u001b[32m3.0/3.0 MB\u001b[0m \u001b[31m82.6 MB/s\u001b[0m eta \u001b[36m0:00:00\u001b[0m\n",
      "\u001b[?25hCollecting decorator==5.1.1 (from -r requirements.txt (line 37))\n",
      "  Downloading decorator-5.1.1-py3-none-any.whl (9.1 kB)\n",
      "Requirement already satisfied: defusedxml==0.7.1 in /usr/local/lib/python3.10/dist-packages (from -r requirements.txt (line 38)) (0.7.1)\n",
      "Collecting executing==1.2.0 (from -r requirements.txt (line 39))\n",
      "  Downloading executing-1.2.0-py2.py3-none-any.whl (24 kB)\n",
      "Requirement already satisfied: fastai==2.7.12 in /usr/local/lib/python3.10/dist-packages (from -r requirements.txt (line 40)) (2.7.12)\n",
      "Requirement already satisfied: fastcore==1.5.29 in /usr/local/lib/python3.10/dist-packages (from -r requirements.txt (line 41)) (1.5.29)\n",
      "Requirement already satisfied: fastdownload==0.0.7 in /usr/local/lib/python3.10/dist-packages (from -r requirements.txt (line 42)) (0.0.7)\n",
      "Requirement already satisfied: fastjsonschema==2.18.0 in /usr/local/lib/python3.10/dist-packages (from -r requirements.txt (line 43)) (2.18.0)\n",
      "Requirement already satisfied: fastprogress==1.0.3 in /usr/local/lib/python3.10/dist-packages (from -r requirements.txt (line 44)) (1.0.3)\n",
      "Requirement already satisfied: filelock==3.12.2 in /usr/local/lib/python3.10/dist-packages (from -r requirements.txt (line 45)) (3.12.2)\n",
      "Requirement already satisfied: flatbuffers==23.5.26 in /usr/local/lib/python3.10/dist-packages (from -r requirements.txt (line 46)) (23.5.26)\n",
      "Requirement already satisfied: fonttools==4.42.1 in /usr/local/lib/python3.10/dist-packages (from -r requirements.txt (line 47)) (4.42.1)\n",
      "Collecting fqdn==1.5.1 (from -r requirements.txt (line 48))\n",
      "  Downloading fqdn-1.5.1-py3-none-any.whl (9.1 kB)\n",
      "Requirement already satisfied: frozenlist==1.4.0 in /usr/local/lib/python3.10/dist-packages (from -r requirements.txt (line 49)) (1.4.0)\n",
      "Collecting fsspec==2023.9.0 (from -r requirements.txt (line 50))\n",
      "  Downloading fsspec-2023.9.0-py3-none-any.whl (173 kB)\n",
      "\u001b[2K     \u001b[90m━━━━━━━━━━━━━━━━━━━━━━━━━━━━━━━━━━━━━━\u001b[0m \u001b[32m173.2/173.2 kB\u001b[0m \u001b[31m21.0 MB/s\u001b[0m eta \u001b[36m0:00:00\u001b[0m\n",
      "\u001b[?25hRequirement already satisfied: gast==0.4.0 in /usr/local/lib/python3.10/dist-packages (from -r requirements.txt (line 51)) (0.4.0)\n",
      "Collecting google-auth==2.22.0 (from -r requirements.txt (line 52))\n",
      "  Downloading google_auth-2.22.0-py2.py3-none-any.whl (181 kB)\n",
      "\u001b[2K     \u001b[90m━━━━━━━━━━━━━━━━━━━━━━━━━━━━━━━━━━━━━━\u001b[0m \u001b[32m181.8/181.8 kB\u001b[0m \u001b[31m21.6 MB/s\u001b[0m eta \u001b[36m0:00:00\u001b[0m\n",
      "\u001b[?25hRequirement already satisfied: google-auth-oauthlib==1.0.0 in /usr/local/lib/python3.10/dist-packages (from -r requirements.txt (line 53)) (1.0.0)\n",
      "Requirement already satisfied: google-pasta==0.2.0 in /usr/local/lib/python3.10/dist-packages (from -r requirements.txt (line 54)) (0.2.0)\n",
      "Collecting graphviz==0.8.4 (from -r requirements.txt (line 55))\n",
      "  Downloading graphviz-0.8.4-py2.py3-none-any.whl (16 kB)\n",
      "Requirement already satisfied: grpcio==1.57.0 in /usr/local/lib/python3.10/dist-packages (from -r requirements.txt (line 56)) (1.57.0)\n",
      "Requirement already satisfied: h5py==3.9.0 in /usr/local/lib/python3.10/dist-packages (from -r requirements.txt (line 57)) (3.9.0)\n",
      "Collecting install==1.3.5 (from -r requirements.txt (line 58))\n",
      "  Downloading install-1.3.5-py3-none-any.whl (3.2 kB)\n",
      "Collecting ipykernel==6.25.1 (from -r requirements.txt (line 59))\n",
      "  Downloading ipykernel-6.25.1-py3-none-any.whl (154 kB)\n",
      "\u001b[2K     \u001b[90m━━━━━━━━━━━━━━━━━━━━━━━━━━━━━━━━━━━━━━\u001b[0m \u001b[32m154.0/154.0 kB\u001b[0m \u001b[31m18.5 MB/s\u001b[0m eta \u001b[36m0:00:00\u001b[0m\n",
      "\u001b[?25hCollecting ipython==8.14.0 (from -r requirements.txt (line 60))\n",
      "  Downloading ipython-8.14.0-py3-none-any.whl (798 kB)\n",
      "\u001b[2K     \u001b[90m━━━━━━━━━━━━━━━━━━━━━━━━━━━━━━━━━━━━━━\u001b[0m \u001b[32m798.7/798.7 kB\u001b[0m \u001b[31m63.2 MB/s\u001b[0m eta \u001b[36m0:00:00\u001b[0m\n",
      "\u001b[?25hRequirement already satisfied: ipython-genutils==0.2.0 in /usr/local/lib/python3.10/dist-packages (from -r requirements.txt (line 61)) (0.2.0)\n",
      "Collecting ipywidgets==8.1.0 (from -r requirements.txt (line 62))\n",
      "  Downloading ipywidgets-8.1.0-py3-none-any.whl (139 kB)\n",
      "\u001b[2K     \u001b[90m━━━━━━━━━━━━━━━━━━━━━━━━━━━━━━━━━━━━━━\u001b[0m \u001b[32m139.3/139.3 kB\u001b[0m \u001b[31m17.4 MB/s\u001b[0m eta \u001b[36m0:00:00\u001b[0m\n",
      "\u001b[?25hCollecting isoduration==20.11.0 (from -r requirements.txt (line 63))\n",
      "  Downloading isoduration-20.11.0-py3-none-any.whl (11 kB)\n",
      "Collecting jedi==0.19.0 (from -r requirements.txt (line 64))\n",
      "  Downloading jedi-0.19.0-py2.py3-none-any.whl (1.6 MB)\n",
      "\u001b[2K     \u001b[90m━━━━━━━━━━━━━━━━━━━━━━━━━━━━━━━━━━━━━━━━\u001b[0m \u001b[32m1.6/1.6 MB\u001b[0m \u001b[31m88.0 MB/s\u001b[0m eta \u001b[36m0:00:00\u001b[0m\n",
      "\u001b[?25hRequirement already satisfied: Jinja2==3.1.2 in /usr/local/lib/python3.10/dist-packages (from -r requirements.txt (line 65)) (3.1.2)\n",
      "Collecting jmespath==1.0.1 (from -r requirements.txt (line 66))\n",
      "  Downloading jmespath-1.0.1-py3-none-any.whl (20 kB)\n",
      "Requirement already satisfied: joblib==1.3.2 in /usr/local/lib/python3.10/dist-packages (from -r requirements.txt (line 67)) (1.3.2)\n",
      "Collecting json5==0.9.14 (from -r requirements.txt (line 68))\n",
      "  Downloading json5-0.9.14-py2.py3-none-any.whl (19 kB)\n",
      "Collecting jsonpointer==2.1 (from -r requirements.txt (line 69))\n",
      "  Downloading jsonpointer-2.1-py2.py3-none-any.whl (7.4 kB)\n",
      "Requirement already satisfied: jsonschema==4.19.0 in /usr/local/lib/python3.10/dist-packages (from -r requirements.txt (line 70)) (4.19.0)\n",
      "Requirement already satisfied: jsonschema-specifications==2023.7.1 in /usr/local/lib/python3.10/dist-packages (from -r requirements.txt (line 71)) (2023.7.1)\n",
      "Requirement already satisfied: keras==2.13.1 in /usr/local/lib/python3.10/dist-packages (from -r requirements.txt (line 72)) (2.13.1)\n",
      "Collecting Keras-Preprocessing==1.1.2 (from -r requirements.txt (line 73))\n",
      "  Downloading Keras_Preprocessing-1.1.2-py2.py3-none-any.whl (42 kB)\n",
      "\u001b[2K     \u001b[90m━━━━━━━━━━━━━━━━━━━━━━━━━━━━━━━━━━━━━━━━\u001b[0m \u001b[32m42.6/42.6 kB\u001b[0m \u001b[31m5.1 MB/s\u001b[0m eta \u001b[36m0:00:00\u001b[0m\n",
      "\u001b[?25hRequirement already satisfied: kiwisolver==1.4.5 in /usr/local/lib/python3.10/dist-packages (from -r requirements.txt (line 74)) (1.4.5)\n",
      "Requirement already satisfied: langcodes==3.3.0 in /usr/local/lib/python3.10/dist-packages (from -r requirements.txt (line 75)) (3.3.0)\n",
      "Requirement already satisfied: libclang==16.0.6 in /usr/local/lib/python3.10/dist-packages (from -r requirements.txt (line 76)) (16.0.6)\n",
      "Requirement already satisfied: lightgbm==4.0.0 in /usr/local/lib/python3.10/dist-packages (from -r requirements.txt (line 77)) (4.0.0)\n",
      "Requirement already satisfied: lit==16.0.6 in /usr/local/lib/python3.10/dist-packages (from -r requirements.txt (line 78)) (16.0.6)\n",
      "Requirement already satisfied: Markdown==3.4.4 in /usr/local/lib/python3.10/dist-packages (from -r requirements.txt (line 79)) (3.4.4)\n",
      "Requirement already satisfied: MarkupSafe==2.1.3 in /usr/local/lib/python3.10/dist-packages (from -r requirements.txt (line 80)) (2.1.3)\n",
      "Collecting marshmallow==3.20.1 (from -r requirements.txt (line 81))\n",
      "  Downloading marshmallow-3.20.1-py3-none-any.whl (49 kB)\n",
      "\u001b[2K     \u001b[90m━━━━━━━━━━━━━━━━━━━━━━━━━━━━━━━━━━━━━━━━\u001b[0m \u001b[32m49.4/49.4 kB\u001b[0m \u001b[31m5.5 MB/s\u001b[0m eta \u001b[36m0:00:00\u001b[0m\n",
      "\u001b[?25hCollecting matplotlib==3.7.2 (from -r requirements.txt (line 82))\n",
      "  Downloading matplotlib-3.7.2-cp310-cp310-manylinux_2_17_x86_64.manylinux2014_x86_64.whl (11.6 MB)\n",
      "\u001b[2K     \u001b[90m━━━━━━━━━━━━━━━━━━━━━━━━━━━━━━━━━━━━━━━━\u001b[0m \u001b[32m11.6/11.6 MB\u001b[0m \u001b[31m95.1 MB/s\u001b[0m eta \u001b[36m0:00:00\u001b[0m\n",
      "\u001b[?25hRequirement already satisfied: matplotlib-inline==0.1.6 in /usr/local/lib/python3.10/dist-packages (from -r requirements.txt (line 83)) (0.1.6)\n",
      "Collecting mistune==3.0.1 (from -r requirements.txt (line 84))\n",
      "  Downloading mistune-3.0.1-py3-none-any.whl (47 kB)\n",
      "\u001b[2K     \u001b[90m━━━━━━━━━━━━━━━━━━━━━━━━━━━━━━━━━━━━━━━━\u001b[0m \u001b[32m48.0/48.0 kB\u001b[0m \u001b[31m5.4 MB/s\u001b[0m eta \u001b[36m0:00:00\u001b[0m\n",
      "\u001b[?25hRequirement already satisfied: mpmath==1.3.0 in /usr/local/lib/python3.10/dist-packages (from -r requirements.txt (line 85)) (1.3.0)\n",
      "Requirement already satisfied: multidict==6.0.4 in /usr/local/lib/python3.10/dist-packages (from -r requirements.txt (line 86)) (6.0.4)\n",
      "Requirement already satisfied: murmurhash==1.0.9 in /usr/local/lib/python3.10/dist-packages (from -r requirements.txt (line 87)) (1.0.9)\n",
      "Requirement already satisfied: nbclient==0.8.0 in /usr/local/lib/python3.10/dist-packages (from -r requirements.txt (line 88)) (0.8.0)\n",
      "Collecting nbconvert==7.7.3 (from -r requirements.txt (line 89))\n",
      "  Downloading nbconvert-7.7.3-py3-none-any.whl (254 kB)\n",
      "\u001b[2K     \u001b[90m━━━━━━━━━━━━━━━━━━━━━━━━━━━━━━━━━━━━━━\u001b[0m \u001b[32m254.7/254.7 kB\u001b[0m \u001b[31m25.1 MB/s\u001b[0m eta \u001b[36m0:00:00\u001b[0m\n",
      "\u001b[?25hRequirement already satisfied: nbformat==5.9.2 in /usr/local/lib/python3.10/dist-packages (from -r requirements.txt (line 90)) (5.9.2)\n",
      "Requirement already satisfied: nest-asyncio==1.5.7 in /usr/local/lib/python3.10/dist-packages (from -r requirements.txt (line 91)) (1.5.7)\n",
      "Requirement already satisfied: networkx==3.1 in /usr/local/lib/python3.10/dist-packages (from -r requirements.txt (line 92)) (3.1)\n",
      "Collecting notebook==7.0.2 (from -r requirements.txt (line 93))\n",
      "  Downloading notebook-7.0.2-py3-none-any.whl (4.0 MB)\n",
      "\u001b[2K     \u001b[90m━━━━━━━━━━━━━━━━━━━━━━━━━━━━━━━━━━━━━━━━\u001b[0m \u001b[32m4.0/4.0 MB\u001b[0m \u001b[31m107.6 MB/s\u001b[0m eta \u001b[36m0:00:00\u001b[0m\n",
      "\u001b[?25hRequirement already satisfied: notebook_shim==0.2.3 in /usr/local/lib/python3.10/dist-packages (from -r requirements.txt (line 94)) (0.2.3)\n",
      "Collecting numpy==1.24.3 (from -r requirements.txt (line 95))\n",
      "  Downloading numpy-1.24.3-cp310-cp310-manylinux_2_17_x86_64.manylinux2014_x86_64.whl (17.3 MB)\n",
      "\u001b[2K     \u001b[90m━━━━━━━━━━━━━━━━━━━━━━━━━━━━━━━━━━━━━━━━\u001b[0m \u001b[32m17.3/17.3 MB\u001b[0m \u001b[31m94.0 MB/s\u001b[0m eta \u001b[36m0:00:00\u001b[0m\n",
      "\u001b[?25hRequirement already satisfied: oauthlib==3.2.2 in /usr/local/lib/python3.10/dist-packages (from -r requirements.txt (line 96)) (3.2.2)\n",
      "Requirement already satisfied: opt-einsum==3.3.0 in /usr/local/lib/python3.10/dist-packages (from -r requirements.txt (line 97)) (3.3.0)\n",
      "Collecting overrides==7.4.0 (from -r requirements.txt (line 98))\n",
      "  Downloading overrides-7.4.0-py3-none-any.whl (17 kB)\n",
      "Requirement already satisfied: packaging==23.1 in /usr/local/lib/python3.10/dist-packages (from -r requirements.txt (line 99)) (23.1)\n",
      "Collecting pandas==2.0.3 (from -r requirements.txt (line 100))\n",
      "  Downloading pandas-2.0.3-cp310-cp310-manylinux_2_17_x86_64.manylinux2014_x86_64.whl (12.3 MB)\n",
      "\u001b[2K     \u001b[90m━━━━━━━━━━━━━━━━━━━━━━━━━━━━━━━━━━━━━━━\u001b[0m \u001b[32m12.3/12.3 MB\u001b[0m \u001b[31m121.9 MB/s\u001b[0m eta \u001b[36m0:00:00\u001b[0m\n",
      "\u001b[?25hRequirement already satisfied: pandocfilters==1.5.0 in /usr/local/lib/python3.10/dist-packages (from -r requirements.txt (line 101)) (1.5.0)\n",
      "Requirement already satisfied: parso==0.8.3 in /usr/local/lib/python3.10/dist-packages (from -r requirements.txt (line 102)) (0.8.3)\n",
      "Collecting pastel==0.2.1 (from -r requirements.txt (line 103))\n",
      "  Downloading pastel-0.2.1-py2.py3-none-any.whl (6.0 kB)\n",
      "Requirement already satisfied: pathy==0.10.2 in /usr/local/lib/python3.10/dist-packages (from -r requirements.txt (line 104)) (0.10.2)\n",
      "Requirement already satisfied: patsy==0.5.3 in /usr/local/lib/python3.10/dist-packages (from -r requirements.txt (line 105)) (0.5.3)\n",
      "Requirement already satisfied: pexpect==4.8.0 in /usr/local/lib/python3.10/dist-packages (from -r requirements.txt (line 106)) (4.8.0)\n",
      "Requirement already satisfied: pickleshare==0.7.5 in /usr/local/lib/python3.10/dist-packages (from -r requirements.txt (line 107)) (0.7.5)\n",
      "Collecting Pillow==10.0.0 (from -r requirements.txt (line 108))\n",
      "  Downloading Pillow-10.0.0-cp310-cp310-manylinux_2_28_x86_64.whl (3.4 MB)\n",
      "\u001b[2K     \u001b[90m━━━━━━━━━━━━━━━━━━━━━━━━━━━━━━━━━━━━━━━━\u001b[0m \u001b[32m3.4/3.4 MB\u001b[0m \u001b[31m111.4 MB/s\u001b[0m eta \u001b[36m0:00:00\u001b[0m\n",
      "\u001b[?25hRequirement already satisfied: platformdirs==3.10.0 in /usr/local/lib/python3.10/dist-packages (from -r requirements.txt (line 109)) (3.10.0)\n",
      "Collecting plotly==5.16.1 (from -r requirements.txt (line 110))\n",
      "  Downloading plotly-5.16.1-py2.py3-none-any.whl (15.6 MB)\n",
      "\u001b[2K     \u001b[90m━━━━━━━━━━━━━━━━━━━━━━━━━━━━━━━━━━━━━━━━\u001b[0m \u001b[32m15.6/15.6 MB\u001b[0m \u001b[31m94.2 MB/s\u001b[0m eta \u001b[36m0:00:00\u001b[0m\n",
      "\u001b[?25hRequirement already satisfied: preshed==3.0.8 in /usr/local/lib/python3.10/dist-packages (from -r requirements.txt (line 111)) (3.0.8)\n",
      "Requirement already satisfied: prometheus-client==0.17.1 in /usr/local/lib/python3.10/dist-packages (from -r requirements.txt (line 112)) (0.17.1)\n",
      "Requirement already satisfied: prompt-toolkit==3.0.39 in /usr/local/lib/python3.10/dist-packages (from -r requirements.txt (line 113)) (3.0.39)\n",
      "Collecting protobuf==4.24.0 (from -r requirements.txt (line 114))\n",
      "  Downloading protobuf-4.24.0-cp37-abi3-manylinux2014_x86_64.whl (311 kB)\n",
      "\u001b[2K     \u001b[90m━━━━━━━━━━━━━━━━━━━━━━━━━━━━━━━━━━━━━━\u001b[0m \u001b[32m311.6/311.6 kB\u001b[0m \u001b[31m33.0 MB/s\u001b[0m eta \u001b[36m0:00:00\u001b[0m\n",
      "\u001b[?25hRequirement already satisfied: psutil==5.9.5 in /usr/local/lib/python3.10/dist-packages (from -r requirements.txt (line 115)) (5.9.5)\n",
      "Requirement already satisfied: ptyprocess==0.7.0 in /usr/local/lib/python3.10/dist-packages (from -r requirements.txt (line 116)) (0.7.0)\n",
      "Collecting pure-eval==0.2.2 (from -r requirements.txt (line 117))\n",
      "  Downloading pure_eval-0.2.2-py3-none-any.whl (11 kB)\n",
      "Requirement already satisfied: pyasn1==0.5.0 in /usr/local/lib/python3.10/dist-packages (from -r requirements.txt (line 118)) (0.5.0)\n",
      "Requirement already satisfied: pyasn1-modules==0.3.0 in /usr/local/lib/python3.10/dist-packages (from -r requirements.txt (line 119)) (0.3.0)\n",
      "Requirement already satisfied: Pygments==2.16.1 in /usr/local/lib/python3.10/dist-packages (from -r requirements.txt (line 120)) (2.16.1)\n",
      "Collecting pylev==1.4.0 (from -r requirements.txt (line 121))\n",
      "  Downloading pylev-1.4.0-py2.py3-none-any.whl (6.1 kB)\n",
      "Collecting pyparsing==3.0.9 (from -r requirements.txt (line 122))\n",
      "  Downloading pyparsing-3.0.9-py3-none-any.whl (98 kB)\n",
      "\u001b[2K     \u001b[90m━━━━━━━━━━━━━━━━━━━━━━━━━━━━━━━━━━━━━━━━\u001b[0m \u001b[32m98.3/98.3 kB\u001b[0m \u001b[31m10.7 MB/s\u001b[0m eta \u001b[36m0:00:00\u001b[0m\n",
      "\u001b[?25hRequirement already satisfied: python-dateutil==2.8.2 in /usr/local/lib/python3.10/dist-packages (from -r requirements.txt (line 123)) (2.8.2)\n",
      "Collecting python-json-logger==2.0.7 (from -r requirements.txt (line 124))\n",
      "  Downloading python_json_logger-2.0.7-py3-none-any.whl (8.1 kB)\n",
      "Collecting pytz==2023.3 (from -r requirements.txt (line 125))\n",
      "  Downloading pytz-2023.3-py2.py3-none-any.whl (502 kB)\n",
      "\u001b[2K     \u001b[90m━━━━━━━━━━━━━━━━━━━━━━━━━━━━━━━━━━━━━━\u001b[0m \u001b[32m502.3/502.3 kB\u001b[0m \u001b[31m46.1 MB/s\u001b[0m eta \u001b[36m0:00:00\u001b[0m\n",
      "\u001b[?25hRequirement already satisfied: PyYAML==6.0.1 in /usr/local/lib/python3.10/dist-packages (from -r requirements.txt (line 126)) (6.0.1)\n",
      "Collecting pyzmq==25.1.1 (from -r requirements.txt (line 127))\n",
      "  Downloading pyzmq-25.1.1-cp310-cp310-manylinux_2_28_x86_64.whl (1.1 MB)\n",
      "\u001b[2K     \u001b[90m━━━━━━━━━━━━━━━━━━━━━━━━━━━━━━━━━━━━━━━━\u001b[0m \u001b[32m1.1/1.1 MB\u001b[0m \u001b[31m65.8 MB/s\u001b[0m eta \u001b[36m0:00:00\u001b[0m\n",
      "\u001b[?25hCollecting qtconsole==5.4.3 (from -r requirements.txt (line 128))\n",
      "  Downloading qtconsole-5.4.3-py3-none-any.whl (121 kB)\n",
      "\u001b[2K     \u001b[90m━━━━━━━━━━━━━━━━━━━━━━━━━━━━━━━━━━━━━━\u001b[0m \u001b[32m121.9/121.9 kB\u001b[0m \u001b[31m16.2 MB/s\u001b[0m eta \u001b[36m0:00:00\u001b[0m\n",
      "\u001b[?25hCollecting QtPy==2.3.1 (from -r requirements.txt (line 129))\n",
      "  Downloading QtPy-2.3.1-py3-none-any.whl (84 kB)\n",
      "\u001b[2K     \u001b[90m━━━━━━━━━━━━━━━━━━━━━━━━━━━━━━━━━━━━━━━━\u001b[0m \u001b[32m84.9/84.9 kB\u001b[0m \u001b[31m10.4 MB/s\u001b[0m eta \u001b[36m0:00:00\u001b[0m\n",
      "\u001b[?25hRequirement already satisfied: referencing==0.30.2 in /usr/local/lib/python3.10/dist-packages (from -r requirements.txt (line 130)) (0.30.2)\n",
      "Requirement already satisfied: requests-oauthlib==1.3.1 in /usr/local/lib/python3.10/dist-packages (from -r requirements.txt (line 131)) (1.3.1)\n",
      "Collecting rfc3339-validator==0.1.4 (from -r requirements.txt (line 132))\n",
      "  Downloading rfc3339_validator-0.1.4-py2.py3-none-any.whl (3.5 kB)\n",
      "Collecting rfc3986-validator==0.1.1 (from -r requirements.txt (line 133))\n",
      "  Downloading rfc3986_validator-0.1.1-py2.py3-none-any.whl (4.2 kB)\n",
      "Collecting rpds-py==0.9.2 (from -r requirements.txt (line 134))\n",
      "  Downloading rpds_py-0.9.2-cp310-cp310-manylinux_2_17_x86_64.manylinux2014_x86_64.whl (1.2 MB)\n",
      "\u001b[2K     \u001b[90m━━━━━━━━━━━━━━━━━━━━━━━━━━━━━━━━━━━━━━━━\u001b[0m \u001b[32m1.2/1.2 MB\u001b[0m \u001b[31m62.7 MB/s\u001b[0m eta \u001b[36m0:00:00\u001b[0m\n",
      "\u001b[?25hRequirement already satisfied: rsa==4.9 in /usr/local/lib/python3.10/dist-packages (from -r requirements.txt (line 135)) (4.9)\n",
      "Collecting s3transfer==0.6.2 (from -r requirements.txt (line 136))\n",
      "  Downloading s3transfer-0.6.2-py3-none-any.whl (79 kB)\n",
      "\u001b[2K     \u001b[90m━━━━━━━━━━━━━━━━━━━━━━━━━━━━━━━━━━━━━━━━\u001b[0m \u001b[32m79.8/79.8 kB\u001b[0m \u001b[31m10.5 MB/s\u001b[0m eta \u001b[36m0:00:00\u001b[0m\n",
      "\u001b[?25hCollecting schedule==1.2.0 (from -r requirements.txt (line 137))\n",
      "  Downloading schedule-1.2.0-py2.py3-none-any.whl (11 kB)\n",
      "Collecting scikit-learn==1.3.0 (from -r requirements.txt (line 138))\n",
      "  Downloading scikit_learn-1.3.0-cp310-cp310-manylinux_2_17_x86_64.manylinux2014_x86_64.whl (10.8 MB)\n",
      "\u001b[2K     \u001b[90m━━━━━━━━━━━━━━━━━━━━━━━━━━━━━━━━━━━━━━━\u001b[0m \u001b[32m10.8/10.8 MB\u001b[0m \u001b[31m119.8 MB/s\u001b[0m eta \u001b[36m0:00:00\u001b[0m\n",
      "\u001b[?25hCollecting scipy==1.11.1 (from -r requirements.txt (line 139))\n",
      "  Downloading scipy-1.11.1-cp310-cp310-manylinux_2_17_x86_64.manylinux2014_x86_64.whl (36.3 MB)\n",
      "\u001b[2K     \u001b[90m━━━━━━━━━━━━━━━━━━━━━━━━━━━━━━━━━━━━━━━━\u001b[0m \u001b[32m36.3/36.3 MB\u001b[0m \u001b[31m51.8 MB/s\u001b[0m eta \u001b[36m0:00:00\u001b[0m\n",
      "\u001b[?25hRequirement already satisfied: Send2Trash==1.8.2 in /usr/local/lib/python3.10/dist-packages (from -r requirements.txt (line 140)) (1.8.2)\n",
      "Requirement already satisfied: smart-open==6.4.0 in /usr/local/lib/python3.10/dist-packages (from -r requirements.txt (line 141)) (6.4.0)\n",
      "Requirement already satisfied: sniffio==1.3.0 in /usr/local/lib/python3.10/dist-packages (from -r requirements.txt (line 142)) (1.3.0)\n",
      "Collecting soupsieve==2.4.1 (from -r requirements.txt (line 143))\n",
      "  Downloading soupsieve-2.4.1-py3-none-any.whl (36 kB)\n",
      "Requirement already satisfied: spacy==3.6.1 in /usr/local/lib/python3.10/dist-packages (from -r requirements.txt (line 144)) (3.6.1)\n",
      "Requirement already satisfied: spacy-legacy==3.0.12 in /usr/local/lib/python3.10/dist-packages (from -r requirements.txt (line 145)) (3.0.12)\n",
      "Collecting spacy-loggers==1.0.5 (from -r requirements.txt (line 146))\n",
      "  Downloading spacy_loggers-1.0.5-py3-none-any.whl (22 kB)\n",
      "Requirement already satisfied: srsly==2.4.7 in /usr/local/lib/python3.10/dist-packages (from -r requirements.txt (line 147)) (2.4.7)\n",
      "Collecting stack-data==0.6.2 (from -r requirements.txt (line 148))\n",
      "  Downloading stack_data-0.6.2-py3-none-any.whl (24 kB)\n",
      "Requirement already satisfied: statsmodels==0.14.0 in /usr/local/lib/python3.10/dist-packages (from -r requirements.txt (line 149)) (0.14.0)\n",
      "Requirement already satisfied: sympy==1.12 in /usr/local/lib/python3.10/dist-packages (from -r requirements.txt (line 150)) (1.12)\n",
      "Requirement already satisfied: tenacity==8.2.3 in /usr/local/lib/python3.10/dist-packages (from -r requirements.txt (line 151)) (8.2.3)\n",
      "Requirement already satisfied: tensorboard==2.13.0 in /usr/local/lib/python3.10/dist-packages (from -r requirements.txt (line 152)) (2.13.0)\n",
      "Requirement already satisfied: tensorboard-data-server==0.7.1 in /usr/local/lib/python3.10/dist-packages (from -r requirements.txt (line 153)) (0.7.1)\n",
      "Requirement already satisfied: tensorflow==2.13.0 in /usr/local/lib/python3.10/dist-packages (from -r requirements.txt (line 154)) (2.13.0)\n",
      "Requirement already satisfied: tensorflow-estimator==2.13.0 in /usr/local/lib/python3.10/dist-packages (from -r requirements.txt (line 155)) (2.13.0)\n",
      "Requirement already satisfied: termcolor==2.3.0 in /usr/local/lib/python3.10/dist-packages (from -r requirements.txt (line 156)) (2.3.0)\n",
      "Requirement already satisfied: terminado==0.17.1 in /usr/local/lib/python3.10/dist-packages (from -r requirements.txt (line 157)) (0.17.1)\n",
      "Collecting Theano==1.0.5 (from -r requirements.txt (line 158))\n",
      "  Downloading Theano-1.0.5.tar.gz (2.8 MB)\n",
      "\u001b[2K     \u001b[90m━━━━━━━━━━━━━━━━━━━━━━━━━━━━━━━━━━━━━━━━\u001b[0m \u001b[32m2.8/2.8 MB\u001b[0m \u001b[31m110.8 MB/s\u001b[0m eta \u001b[36m0:00:00\u001b[0m\n",
      "\u001b[?25h  Preparing metadata (setup.py) ... \u001b[?25l\u001b[?25hdone\n",
      "Requirement already satisfied: thinc==8.1.12 in /usr/local/lib/python3.10/dist-packages (from -r requirements.txt (line 159)) (8.1.12)\n",
      "Requirement already satisfied: threadpoolctl==3.2.0 in /usr/local/lib/python3.10/dist-packages (from -r requirements.txt (line 160)) (3.2.0)\n",
      "Requirement already satisfied: tinycss2==1.2.1 in /usr/local/lib/python3.10/dist-packages (from -r requirements.txt (line 161)) (1.2.1)\n",
      "Requirement already satisfied: torch==2.0.1 in /usr/local/lib/python3.10/dist-packages (from -r requirements.txt (line 162)) (2.0.1+cu118)\n",
      "Requirement already satisfied: torchvision==0.15.2 in /usr/local/lib/python3.10/dist-packages (from -r requirements.txt (line 163)) (0.15.2+cu118)\n",
      "Collecting tornado==6.3.3 (from -r requirements.txt (line 164))\n",
      "  Downloading tornado-6.3.3-cp38-abi3-manylinux_2_5_x86_64.manylinux1_x86_64.manylinux_2_17_x86_64.manylinux2014_x86_64.whl (427 kB)\n",
      "\u001b[2K     \u001b[90m━━━━━━━━━━━━━━━━━━━━━━━━━━━━━━━━━━━━━━\u001b[0m \u001b[32m427.7/427.7 kB\u001b[0m \u001b[31m40.1 MB/s\u001b[0m eta \u001b[36m0:00:00\u001b[0m\n",
      "\u001b[?25hCollecting traitlets==5.9.0 (from -r requirements.txt (line 165))\n",
      "  Downloading traitlets-5.9.0-py3-none-any.whl (117 kB)\n",
      "\u001b[2K     \u001b[90m━━━━━━━━━━━━━━━━━━━━━━━━━━━━━━━━━━━━━━\u001b[0m \u001b[32m117.4/117.4 kB\u001b[0m \u001b[31m14.1 MB/s\u001b[0m eta \u001b[36m0:00:00\u001b[0m\n",
      "\u001b[?25hRequirement already satisfied: typer==0.9.0 in /usr/local/lib/python3.10/dist-packages (from -r requirements.txt (line 166)) (0.9.0)\n",
      "Collecting tzdata==2023.3 (from -r requirements.txt (line 167))\n",
      "  Downloading tzdata-2023.3-py2.py3-none-any.whl (341 kB)\n",
      "\u001b[2K     \u001b[90m━━━━━━━━━━━━━━━━━━━━━━━━━━━━━━━━━━━━━━\u001b[0m \u001b[32m341.8/341.8 kB\u001b[0m \u001b[31m36.9 MB/s\u001b[0m eta \u001b[36m0:00:00\u001b[0m\n",
      "\u001b[?25hCollecting uri-template==1.3.0 (from -r requirements.txt (line 168))\n",
      "  Downloading uri_template-1.3.0-py3-none-any.whl (11 kB)\n",
      "Requirement already satisfied: wasabi==1.1.2 in /usr/local/lib/python3.10/dist-packages (from -r requirements.txt (line 169)) (1.1.2)\n",
      "Requirement already satisfied: wcwidth==0.2.6 in /usr/local/lib/python3.10/dist-packages (from -r requirements.txt (line 170)) (0.2.6)\n",
      "Collecting webargs==8.3.0 (from -r requirements.txt (line 171))\n",
      "  Downloading webargs-8.3.0-py3-none-any.whl (31 kB)\n",
      "Requirement already satisfied: webcolors==1.13 in /usr/local/lib/python3.10/dist-packages (from -r requirements.txt (line 172)) (1.13)\n",
      "Requirement already satisfied: webencodings==0.5.1 in /usr/local/lib/python3.10/dist-packages (from -r requirements.txt (line 173)) (0.5.1)\n",
      "Collecting websocket-client==1.6.1 (from -r requirements.txt (line 174))\n",
      "  Downloading websocket_client-1.6.1-py3-none-any.whl (56 kB)\n",
      "\u001b[2K     \u001b[90m━━━━━━━━━━━━━━━━━━━━━━━━━━━━━━━━━━━━━━━━\u001b[0m \u001b[32m56.9/56.9 kB\u001b[0m \u001b[31m7.3 MB/s\u001b[0m eta \u001b[36m0:00:00\u001b[0m\n",
      "\u001b[?25hCollecting Werkzeug==2.3.6 (from -r requirements.txt (line 175))\n",
      "  Downloading Werkzeug-2.3.6-py3-none-any.whl (242 kB)\n",
      "\u001b[2K     \u001b[90m━━━━━━━━━━━━━━━━━━━━━━━━━━━━━━━━━━━━━━\u001b[0m \u001b[32m242.5/242.5 kB\u001b[0m \u001b[31m27.6 MB/s\u001b[0m eta \u001b[36m0:00:00\u001b[0m\n",
      "\u001b[?25hCollecting widgetsnbextension==4.0.8 (from -r requirements.txt (line 176))\n",
      "  Downloading widgetsnbextension-4.0.8-py3-none-any.whl (2.3 MB)\n",
      "\u001b[2K     \u001b[90m━━━━━━━━━━━━━━━━━━━━━━━━━━━━━━━━━━━━━━━━\u001b[0m \u001b[32m2.3/2.3 MB\u001b[0m \u001b[31m95.6 MB/s\u001b[0m eta \u001b[36m0:00:00\u001b[0m\n",
      "\u001b[?25hRequirement already satisfied: wrapt==1.15.0 in /usr/local/lib/python3.10/dist-packages (from -r requirements.txt (line 177)) (1.15.0)\n",
      "Requirement already satisfied: xgboost==1.7.6 in /usr/local/lib/python3.10/dist-packages (from -r requirements.txt (line 178)) (1.7.6)\n",
      "Requirement already satisfied: yarl==1.9.2 in /usr/local/lib/python3.10/dist-packages (from -r requirements.txt (line 179)) (1.9.2)\n",
      "Requirement already satisfied: charset-normalizer<4.0,>=2.0 in /usr/local/lib/python3.10/dist-packages (from aiohttp==3.8.5->-r requirements.txt (line 2)) (3.2.0)\n",
      "Requirement already satisfied: idna>=2.8 in /usr/local/lib/python3.10/dist-packages (from anyio==3.7.1->-r requirements.txt (line 5)) (3.4)\n",
      "Requirement already satisfied: exceptiongroup in /usr/local/lib/python3.10/dist-packages (from anyio==3.7.1->-r requirements.txt (line 5)) (1.1.3)\n",
      "Requirement already satisfied: cffi>=1.0.1 in /usr/local/lib/python3.10/dist-packages (from argon2-cffi-bindings==21.2.0->-r requirements.txt (line 8)) (1.15.1)\n",
      "Requirement already satisfied: six in /usr/local/lib/python3.10/dist-packages (from asttokens==2.2.1->-r requirements.txt (line 10)) (1.16.0)\n",
      "Requirement already satisfied: wheel<1.0,>=0.23.0 in /usr/local/lib/python3.10/dist-packages (from astunparse==1.6.3->-r requirements.txt (line 11)) (0.41.2)\n",
      "Requirement already satisfied: typing-extensions>=4.0.0 in /usr/local/lib/python3.10/dist-packages (from async-lru==2.0.4->-r requirements.txt (line 12)) (4.5.0)\n",
      "Collecting urllib3<1.27,>=1.25.4 (from botocore==1.31.33->-r requirements.txt (line 21))\n",
      "  Downloading urllib3-1.26.16-py2.py3-none-any.whl (143 kB)\n",
      "\u001b[2K     \u001b[90m━━━━━━━━━━━━━━━━━━━━━━━━━━━━━━━━━━━━━━\u001b[0m \u001b[32m143.1/143.1 kB\u001b[0m \u001b[31m16.2 MB/s\u001b[0m eta \u001b[36m0:00:00\u001b[0m\n",
      "\u001b[?25hRequirement already satisfied: pydantic!=1.8,!=1.8.1,<3.0.0,>=1.7.4 in /usr/local/lib/python3.10/dist-packages (from confection==0.1.3->-r requirements.txt (line 31)) (1.10.12)\n",
      "Requirement already satisfied: pip in /usr/local/lib/python3.10/dist-packages (from fastai==2.7.12->-r requirements.txt (line 40)) (23.1.2)\n",
      "Requirement already satisfied: requests in /usr/local/lib/python3.10/dist-packages (from fastai==2.7.12->-r requirements.txt (line 40)) (2.31.0)\n",
      "Requirement already satisfied: jupyter-client>=6.1.12 in /usr/local/lib/python3.10/dist-packages (from ipykernel==6.25.1->-r requirements.txt (line 59)) (6.1.12)\n",
      "Requirement already satisfied: jupyter-core!=5.0.*,>=4.12 in /usr/local/lib/python3.10/dist-packages (from ipykernel==6.25.1->-r requirements.txt (line 59)) (5.3.1)\n",
      "Requirement already satisfied: jupyterlab-widgets~=3.0.7 in /usr/local/lib/python3.10/dist-packages (from ipywidgets==8.1.0->-r requirements.txt (line 62)) (3.0.8)\n",
      "Requirement already satisfied: jupyterlab-pygments in /usr/local/lib/python3.10/dist-packages (from nbconvert==7.7.3->-r requirements.txt (line 89)) (0.2.2)\n",
      "Collecting jupyter-server<3,>=2.4.0 (from notebook==7.0.2->-r requirements.txt (line 93))\n",
      "  Downloading jupyter_server-2.7.3-py3-none-any.whl (375 kB)\n",
      "\u001b[2K     \u001b[90m━━━━━━━━━━━━━━━━━━━━━━━━━━━━━━━━━━━━━━\u001b[0m \u001b[32m375.6/375.6 kB\u001b[0m \u001b[31m38.8 MB/s\u001b[0m eta \u001b[36m0:00:00\u001b[0m\n",
      "\u001b[?25hCollecting jupyterlab-server<3,>=2.22.1 (from notebook==7.0.2->-r requirements.txt (line 93))\n",
      "  Downloading jupyterlab_server-2.25.0-py3-none-any.whl (57 kB)\n",
      "\u001b[2K     \u001b[90m━━━━━━━━━━━━━━━━━━━━━━━━━━━━━━━━━━━━━━━━\u001b[0m \u001b[32m57.2/57.2 kB\u001b[0m \u001b[31m7.9 MB/s\u001b[0m eta \u001b[36m0:00:00\u001b[0m\n",
      "\u001b[?25hCollecting jupyterlab<5,>=4.0.2 (from notebook==7.0.2->-r requirements.txt (line 93))\n",
      "  Downloading jupyterlab-4.0.6-py3-none-any.whl (9.2 MB)\n",
      "\u001b[2K     \u001b[90m━━━━━━━━━━━━━━━━━━━━━━━━━━━━━━━━━━━━━━━━\u001b[0m \u001b[32m9.2/9.2 MB\u001b[0m \u001b[31m92.1 MB/s\u001b[0m eta \u001b[36m0:00:00\u001b[0m\n",
      "\u001b[?25hRequirement already satisfied: tqdm<5.0.0,>=4.38.0 in /usr/local/lib/python3.10/dist-packages (from spacy==3.6.1->-r requirements.txt (line 144)) (4.66.1)\n",
      "Requirement already satisfied: setuptools in /usr/local/lib/python3.10/dist-packages (from spacy==3.6.1->-r requirements.txt (line 144)) (67.7.2)\n",
      "Requirement already satisfied: tensorflow-io-gcs-filesystem>=0.23.1 in /usr/local/lib/python3.10/dist-packages (from tensorflow==2.13.0->-r requirements.txt (line 154)) (0.33.0)\n",
      "Requirement already satisfied: triton==2.0.0 in /usr/local/lib/python3.10/dist-packages (from torch==2.0.1->-r requirements.txt (line 162)) (2.0.0)\n",
      "Requirement already satisfied: pycparser in /usr/local/lib/python3.10/dist-packages (from cffi>=1.0.1->argon2-cffi-bindings==21.2.0->-r requirements.txt (line 8)) (2.21)\n",
      "Collecting jupyter-client>=6.1.12 (from ipykernel==6.25.1->-r requirements.txt (line 59))\n",
      "  Downloading jupyter_client-8.3.1-py3-none-any.whl (104 kB)\n",
      "\u001b[2K     \u001b[90m━━━━━━━━━━━━━━━━━━━━━━━━━━━━━━━━━━━━━━\u001b[0m \u001b[32m104.1/104.1 kB\u001b[0m \u001b[31m12.2 MB/s\u001b[0m eta \u001b[36m0:00:00\u001b[0m\n",
      "\u001b[?25hCollecting jupyter-events>=0.6.0 (from jupyter-server<3,>=2.4.0->notebook==7.0.2->-r requirements.txt (line 93))\n",
      "  Downloading jupyter_events-0.7.0-py3-none-any.whl (18 kB)\n",
      "Collecting jupyter-server-terminals (from jupyter-server<3,>=2.4.0->notebook==7.0.2->-r requirements.txt (line 93))\n",
      "  Downloading jupyter_server_terminals-0.4.4-py3-none-any.whl (13 kB)\n",
      "Collecting jupyter-lsp>=2.0.0 (from jupyterlab<5,>=4.0.2->notebook==7.0.2->-r requirements.txt (line 93))\n",
      "  Downloading jupyter_lsp-2.2.0-py3-none-any.whl (65 kB)\n",
      "\u001b[2K     \u001b[90m━━━━━━━━━━━━━━━━━━━━━━━━━━━━━━━━━━━━━━━━\u001b[0m \u001b[32m66.0/66.0 kB\u001b[0m \u001b[31m8.3 MB/s\u001b[0m eta \u001b[36m0:00:00\u001b[0m\n",
      "\u001b[?25hRequirement already satisfied: tomli in /usr/local/lib/python3.10/dist-packages (from jupyterlab<5,>=4.0.2->notebook==7.0.2->-r requirements.txt (line 93)) (2.0.1)\n",
      "Building wheels for collected packages: Theano\n",
      "  Building wheel for Theano (setup.py) ... \u001b[?25l\u001b[?25hdone\n",
      "  Created wheel for Theano: filename=Theano-1.0.5-py3-none-any.whl size=2668110 sha256=09379ce07fca73315ba2cc4e3646516db4c1fd9f638a1a253e5c42639c4cf072\n",
      "  Stored in directory: /root/.cache/pip/wheels/d9/e6/7d/2267d21a99e4ab8276f976f293b4ff23f50c9d809f4a216ebb\n",
      "Successfully built Theano\n",
      "Installing collected packages: pytz, pylev, pure-eval, json5, executing, cmake, widgetsnbextension, Werkzeug, websocket-client, urllib3, uri-template, tzdata, traitlets, tornado, spacy-loggers, soupsieve, schedule, rpds-py, rfc3986-validator, rfc3339-validator, QtPy, pyzmq, python-json-logger, pyparsing, protobuf, plotly, Pillow, pastel, overrides, numpy, mistune, marshmallow, jsonpointer, jmespath, jedi, install, graphviz, fsspec, fqdn, decorator, debugpy, crashtest, async-lru, asttokens, annotated-types, webargs, stack-data, scipy, pandas, Keras-Preprocessing, google-auth, confection, comm, clikit, brotlipy, botocore, beautifulsoup4, arrow, Theano, scikit-learn, s3transfer, matplotlib, jupyter-server-terminals, jupyter-client, isoduration, ipython, ipywidgets, ipykernel, catboost, boto3, qtconsole, jupyter-events, nbconvert, jupyter-server, jupyterlab-server, jupyter-lsp, jupyterlab, notebook\n",
      "  Attempting uninstall: pytz\n",
      "    Found existing installation: pytz 2023.3.post1\n",
      "    Uninstalling pytz-2023.3.post1:\n",
      "      Successfully uninstalled pytz-2023.3.post1\n",
      "  Attempting uninstall: cmake\n",
      "    Found existing installation: cmake 3.27.4.1\n",
      "    Uninstalling cmake-3.27.4.1:\n",
      "      Successfully uninstalled cmake-3.27.4.1\n",
      "  Attempting uninstall: widgetsnbextension\n",
      "    Found existing installation: widgetsnbextension 3.6.5\n",
      "    Uninstalling widgetsnbextension-3.6.5:\n",
      "      Successfully uninstalled widgetsnbextension-3.6.5\n",
      "  Attempting uninstall: Werkzeug\n",
      "    Found existing installation: Werkzeug 2.3.7\n",
      "    Uninstalling Werkzeug-2.3.7:\n",
      "      Successfully uninstalled Werkzeug-2.3.7\n",
      "  Attempting uninstall: websocket-client\n",
      "    Found existing installation: websocket-client 1.6.2\n",
      "    Uninstalling websocket-client-1.6.2:\n",
      "      Successfully uninstalled websocket-client-1.6.2\n",
      "  Attempting uninstall: urllib3\n",
      "    Found existing installation: urllib3 2.0.4\n",
      "    Uninstalling urllib3-2.0.4:\n",
      "      Successfully uninstalled urllib3-2.0.4\n",
      "  Attempting uninstall: traitlets\n",
      "    Found existing installation: traitlets 5.7.1\n",
      "    Uninstalling traitlets-5.7.1:\n",
      "      Successfully uninstalled traitlets-5.7.1\n",
      "  Attempting uninstall: tornado\n",
      "    Found existing installation: tornado 6.3.2\n",
      "    Uninstalling tornado-6.3.2:\n",
      "      Successfully uninstalled tornado-6.3.2\n",
      "  Attempting uninstall: spacy-loggers\n",
      "    Found existing installation: spacy-loggers 1.0.4\n",
      "    Uninstalling spacy-loggers-1.0.4:\n",
      "      Successfully uninstalled spacy-loggers-1.0.4\n",
      "  Attempting uninstall: soupsieve\n",
      "    Found existing installation: soupsieve 2.5\n",
      "    Uninstalling soupsieve-2.5:\n",
      "      Successfully uninstalled soupsieve-2.5\n",
      "  Attempting uninstall: rpds-py\n",
      "    Found existing installation: rpds-py 0.10.2\n",
      "    Uninstalling rpds-py-0.10.2:\n",
      "      Successfully uninstalled rpds-py-0.10.2\n",
      "  Attempting uninstall: pyzmq\n",
      "    Found existing installation: pyzmq 23.2.1\n",
      "    Uninstalling pyzmq-23.2.1:\n",
      "      Successfully uninstalled pyzmq-23.2.1\n",
      "  Attempting uninstall: pyparsing\n",
      "    Found existing installation: pyparsing 3.1.1\n",
      "    Uninstalling pyparsing-3.1.1:\n",
      "      Successfully uninstalled pyparsing-3.1.1\n",
      "  Attempting uninstall: protobuf\n",
      "    Found existing installation: protobuf 3.20.3\n",
      "    Uninstalling protobuf-3.20.3:\n",
      "      Successfully uninstalled protobuf-3.20.3\n",
      "  Attempting uninstall: plotly\n",
      "    Found existing installation: plotly 5.15.0\n",
      "    Uninstalling plotly-5.15.0:\n",
      "      Successfully uninstalled plotly-5.15.0\n",
      "  Attempting uninstall: Pillow\n",
      "    Found existing installation: Pillow 9.4.0\n",
      "    Uninstalling Pillow-9.4.0:\n",
      "      Successfully uninstalled Pillow-9.4.0\n",
      "  Attempting uninstall: numpy\n",
      "    Found existing installation: numpy 1.23.5\n",
      "    Uninstalling numpy-1.23.5:\n",
      "      Successfully uninstalled numpy-1.23.5\n",
      "  Attempting uninstall: mistune\n",
      "    Found existing installation: mistune 0.8.4\n",
      "    Uninstalling mistune-0.8.4:\n",
      "      Successfully uninstalled mistune-0.8.4\n",
      "  Attempting uninstall: graphviz\n",
      "    Found existing installation: graphviz 0.20.1\n",
      "    Uninstalling graphviz-0.20.1:\n",
      "      Successfully uninstalled graphviz-0.20.1\n",
      "  Attempting uninstall: fsspec\n",
      "    Found existing installation: fsspec 2023.6.0\n",
      "    Uninstalling fsspec-2023.6.0:\n",
      "      Successfully uninstalled fsspec-2023.6.0\n",
      "  Attempting uninstall: decorator\n",
      "    Found existing installation: decorator 4.4.2\n",
      "    Uninstalling decorator-4.4.2:\n",
      "      Successfully uninstalled decorator-4.4.2\n",
      "  Attempting uninstall: debugpy\n",
      "    Found existing installation: debugpy 1.6.6\n",
      "    Uninstalling debugpy-1.6.6:\n",
      "      Successfully uninstalled debugpy-1.6.6\n",
      "  Attempting uninstall: scipy\n",
      "    Found existing installation: scipy 1.11.2\n",
      "    Uninstalling scipy-1.11.2:\n",
      "      Successfully uninstalled scipy-1.11.2\n",
      "  Attempting uninstall: pandas\n",
      "    Found existing installation: pandas 1.5.3\n",
      "    Uninstalling pandas-1.5.3:\n",
      "      Successfully uninstalled pandas-1.5.3\n",
      "  Attempting uninstall: google-auth\n",
      "    Found existing installation: google-auth 2.17.3\n",
      "    Uninstalling google-auth-2.17.3:\n",
      "      Successfully uninstalled google-auth-2.17.3\n",
      "  Attempting uninstall: confection\n",
      "    Found existing installation: confection 0.1.2\n",
      "    Uninstalling confection-0.1.2:\n",
      "      Successfully uninstalled confection-0.1.2\n",
      "  Attempting uninstall: beautifulsoup4\n",
      "    Found existing installation: beautifulsoup4 4.11.2\n",
      "    Uninstalling beautifulsoup4-4.11.2:\n",
      "      Successfully uninstalled beautifulsoup4-4.11.2\n",
      "  Attempting uninstall: scikit-learn\n",
      "    Found existing installation: scikit-learn 1.2.2\n",
      "    Uninstalling scikit-learn-1.2.2:\n",
      "      Successfully uninstalled scikit-learn-1.2.2\n",
      "  Attempting uninstall: matplotlib\n",
      "    Found existing installation: matplotlib 3.7.1\n",
      "    Uninstalling matplotlib-3.7.1:\n",
      "      Successfully uninstalled matplotlib-3.7.1\n",
      "  Attempting uninstall: jupyter-client\n",
      "    Found existing installation: jupyter-client 6.1.12\n",
      "    Uninstalling jupyter-client-6.1.12:\n",
      "      Successfully uninstalled jupyter-client-6.1.12\n",
      "  Attempting uninstall: ipython\n",
      "    Found existing installation: ipython 7.34.0\n",
      "    Uninstalling ipython-7.34.0:\n",
      "      Successfully uninstalled ipython-7.34.0\n",
      "  Attempting uninstall: ipywidgets\n",
      "    Found existing installation: ipywidgets 7.7.1\n",
      "    Uninstalling ipywidgets-7.7.1:\n",
      "      Successfully uninstalled ipywidgets-7.7.1\n",
      "  Attempting uninstall: ipykernel\n",
      "    Found existing installation: ipykernel 5.5.6\n",
      "    Uninstalling ipykernel-5.5.6:\n",
      "      Successfully uninstalled ipykernel-5.5.6\n",
      "  Attempting uninstall: nbconvert\n",
      "    Found existing installation: nbconvert 6.5.4\n",
      "    Uninstalling nbconvert-6.5.4:\n",
      "      Successfully uninstalled nbconvert-6.5.4\n",
      "  Attempting uninstall: jupyter-server\n",
      "    Found existing installation: jupyter-server 1.24.0\n",
      "    Uninstalling jupyter-server-1.24.0:\n",
      "      Successfully uninstalled jupyter-server-1.24.0\n",
      "  Attempting uninstall: notebook\n",
      "    Found existing installation: notebook 6.5.5\n",
      "    Uninstalling notebook-6.5.5:\n",
      "      Successfully uninstalled notebook-6.5.5\n",
      "\u001b[31mERROR: pip's dependency resolver does not currently take into account all the packages that are installed. This behaviour is the source of the following dependency conflicts.\n",
      "gcsfs 2023.6.0 requires fsspec==2023.6.0, but you have fsspec 2023.9.0 which is incompatible.\n",
      "google-colab 1.0.0 requires google-auth==2.17.3, but you have google-auth 2.22.0 which is incompatible.\n",
      "google-colab 1.0.0 requires ipykernel==5.5.6, but you have ipykernel 6.25.1 which is incompatible.\n",
      "google-colab 1.0.0 requires ipython==7.34.0, but you have ipython 8.14.0 which is incompatible.\n",
      "google-colab 1.0.0 requires notebook==6.5.5, but you have notebook 7.0.2 which is incompatible.\n",
      "google-colab 1.0.0 requires pandas==1.5.3, but you have pandas 2.0.3 which is incompatible.\n",
      "google-colab 1.0.0 requires tornado==6.3.2, but you have tornado 6.3.3 which is incompatible.\n",
      "moviepy 1.0.3 requires decorator<5.0,>=4.0.2, but you have decorator 5.1.1 which is incompatible.\n",
      "numba 0.56.4 requires numpy<1.24,>=1.18, but you have numpy 1.24.3 which is incompatible.\n",
      "tensorflow-metadata 1.14.0 requires protobuf<4.21,>=3.20.3, but you have protobuf 4.24.0 which is incompatible.\u001b[0m\u001b[31m\n",
      "\u001b[0mSuccessfully installed Keras-Preprocessing-1.1.2 Pillow-10.0.0 QtPy-2.3.1 Theano-1.0.5 Werkzeug-2.3.6 annotated-types-0.5.0 arrow-1.2.3 asttokens-2.2.1 async-lru-2.0.4 beautifulsoup4-4.12.2 boto3-1.28.33 botocore-1.31.33 brotlipy-0.7.0 catboost-1.2.1 clikit-0.6.2 cmake-3.27.2 comm-0.1.4 confection-0.1.3 crashtest-0.3.1 debugpy-1.6.7.post1 decorator-5.1.1 executing-1.2.0 fqdn-1.5.1 fsspec-2023.9.0 google-auth-2.22.0 graphviz-0.8.4 install-1.3.5 ipykernel-6.25.1 ipython-8.14.0 ipywidgets-8.1.0 isoduration-20.11.0 jedi-0.19.0 jmespath-1.0.1 json5-0.9.14 jsonpointer-2.1 jupyter-client-8.3.1 jupyter-events-0.7.0 jupyter-lsp-2.2.0 jupyter-server-2.7.3 jupyter-server-terminals-0.4.4 jupyterlab-4.0.6 jupyterlab-server-2.25.0 marshmallow-3.20.1 matplotlib-3.7.2 mistune-3.0.1 nbconvert-7.7.3 notebook-7.0.2 numpy-1.24.3 overrides-7.4.0 pandas-2.0.3 pastel-0.2.1 plotly-5.16.1 protobuf-4.24.0 pure-eval-0.2.2 pylev-1.4.0 pyparsing-3.0.9 python-json-logger-2.0.7 pytz-2023.3 pyzmq-25.1.1 qtconsole-5.4.3 rfc3339-validator-0.1.4 rfc3986-validator-0.1.1 rpds-py-0.9.2 s3transfer-0.6.2 schedule-1.2.0 scikit-learn-1.3.0 scipy-1.11.1 soupsieve-2.4.1 spacy-loggers-1.0.5 stack-data-0.6.2 tornado-6.3.3 traitlets-5.9.0 tzdata-2023.3 uri-template-1.3.0 urllib3-1.26.16 webargs-8.3.0 websocket-client-1.6.1 widgetsnbextension-4.0.8\n"
     ]
    },
    {
     "data": {
      "application/vnd.colab-display-data+json": {
       "pip_warning": {
        "packages": [
         "IPython",
         "PIL",
         "debugpy",
         "decorator",
         "google",
         "matplotlib",
         "mpl_toolkits",
         "numpy",
         "pandas",
         "pytz",
         "sklearn",
         "tornado",
         "zmq"
        ]
       }
      }
     },
     "metadata": {},
     "output_type": "display_data"
    }
   ],
   "source": [
    "!pip install -r requirements.txt"
   ]
  },
  {
   "cell_type": "code",
   "execution_count": 2,
   "metadata": {
    "executionInfo": {
     "elapsed": 1063,
     "status": "ok",
     "timestamp": 1694880381959,
     "user": {
      "displayName": "김민석",
      "userId": "11524482620313840880"
     },
     "user_tz": -540
    },
    "id": "PrkJN9VAL1w7"
   },
   "outputs": [],
   "source": [
    "###  INPUT ###\n",
    "import pandas as pd\n",
    "input_data = pd.read_csv('2023_smartFarm_AI_hackathon_dataset.csv')"
   ]
  },
  {
   "cell_type": "markdown",
   "metadata": {
    "id": "su5MSfbQL1xC"
   },
   "source": [
    "# 모델링 시작"
   ]
  },
  {
   "cell_type": "code",
   "execution_count": 20,
   "metadata": {
    "executionInfo": {
     "elapsed": 969,
     "status": "ok",
     "timestamp": 1694880385161,
     "user": {
      "displayName": "김민석",
      "userId": "11524482620313840880"
     },
     "user_tz": -540
    },
    "id": "UdtNxbvCL1xC"
   },
   "outputs": [],
   "source": [
    "#    Write codes...\n",
    "# ... (Data preprocessing code here)\n",
    "\n",
    "#데이터셋 로드\n",
    "input_data = pd.read_csv('2023_smartFarm_AI_hackathon_dataset.csv')\n"
   ]
  },
  {
   "cell_type": "code",
   "execution_count": 21,
   "metadata": {
    "executionInfo": {
     "elapsed": 627,
     "status": "ok",
     "timestamp": 1694880387347,
     "user": {
      "displayName": "김민석",
      "userId": "11524482620313840880"
     },
     "user_tz": -540
    },
    "id": "XfufA8-RL1xC"
   },
   "outputs": [],
   "source": [
    "# 모델링 준비\n",
    "import math\n",
    "import numpy as np\n",
    "#from sklearn.datasets import load_boston\n",
    "from sklearn.model_selection import train_test_split\n",
    "from sklearn.ensemble import RandomForestRegressor, GradientBoostingRegressor, VotingRegressor\n",
    "from sklearn.metrics import mean_squared_error, r2_score\n",
    "from sklearn.linear_model import LinearRegression\n",
    "\n",
    "# 파라미터 튜닝\n",
    "from sklearn.model_selection import RandomizedSearchCV\n",
    "from sklearn.model_selection import GridSearchCV\n",
    "\n",
    "# 대충 돌릴때 체크 : cross-val\n",
    "from sklearn.model_selection import cross_val_score\n",
    "\n",
    "# 평가\n",
    "from sklearn.metrics import accuracy_score"
   ]
  },
  {
   "cell_type": "code",
   "execution_count": 29,
   "metadata": {
    "executionInfo": {
     "elapsed": 1122,
     "status": "ok",
     "timestamp": 1694882586169,
     "user": {
      "displayName": "김민석",
      "userId": "11524482620313840880"
     },
     "user_tz": -540
    },
    "id": "qn7yQrNvL1xC"
   },
   "outputs": [],
   "source": [
    "\n",
    "# Split the data into training and testing sets\n",
    "\n",
    "#X = input_data[input_data.drop(columns=['outtrn_cumsum','HeatingEnergyUsage_cumsum']).columns]\n",
    "#Y = input_data[['outtrn_cumsum','HeatingEnergyUsage_cumsum']]\n",
    "#X_train, X_test, y_train, y_test = train_test_split(X, Y, test_size=0.2, random_state=42)\n",
    "\n",
    "# 데이터 분할 (훈련 세트와 테스트 세트)\n",
    "\n",
    "\n",
    "#1. 초기에 진행했던 데이터\n",
    "#X = input_data[['ec', 'cunt', 'HeatingEnergyUsage_cumsum', 'hvstCo', 'frtstCo', 'HeatingEnergyUsage_cumsum']]\n",
    "\n",
    "#lenear 23731 / 0.62(Y 변수 2개사용 시), 33560 / 0.25(Y 1개 변수)\n",
    "#random(200, 5, 4, 10, 42) 32033 / 0.32\n",
    "#random(300, 10, 1, 20, 42) 31684 / 0.33\n",
    "#MLP 31828 0.338\n",
    "\n",
    "\n",
    "#2. 내가 임의로 추가한 데이터\n",
    "#X = input_data[['ec', 'cunt', 'HeatingEnergyUsage_cumsum', 'hvstCo', 'frtstCo', 'HeatingEnergyUsage_cumsum', 'inTp', 'inHd', 'inCo2', 'acSlrdQy',\n",
    "#             'grwtLt', 'frtstSetCo', 'hvstCo', 'FertilizerUsage', 'CO2Usage', 'MistUsageTime']]\n",
    "\n",
    "#linear 32980.88386785127 / 0.2837536498037164\n",
    "#random(200, 5, 4, 10, 42) 29287.83545994871 / 0.43517697379449505\n",
    "#random(300, 10, 1, 20, 42) 27976 / 0.484\n",
    "#random(300, 10, 1, 20, 42) 두번째 데이터 27975 / 0.484 - 중복데이터 제거하고 돌린 결과\n",
    "#Sequential 28946 0.452\n",
    "#MLP 29492 / 0.427 - 파라미터 조정좀 해보자\n",
    "#MLP random search 27696 / 0.494\n",
    "#MLP random search 27664 / 0.496 - (random search 결과에서 max_iter 600으로 수정)\n",
    "#MLP random search 28176 / 0.477(0 많은 피처 빼니까 더 낮아짐)\n",
    "\n",
    "\n",
    "#3. object 타입 빼고 다 때려넣기 - 딥러닝용\n",
    "#X = input_data[input_data.drop(columns=['outtrn_cumsum', 'frmDist']).columns]  # 세번째 데이터 - object타입 빼고 다 때려박기\n",
    "#Sequential 45985 / -0.38 (마이너스가 가능한가?) -> 어쨋든 이건 버려야함\n",
    "# random(300, 10, 1, 20, 42) 14140 / 0.868 -> 이게 제일\n",
    "\n",
    "RMSE: 14140.94372699438\n",
    "R2_score: 0.8683276370356842\n",
    "\n",
    "\n",
    "#4. 0 많은 데이터들 다 빼고 때려넣기 - 딥러닝용\n",
    "X = input_data[input_data.drop(columns=['Mist Cost', 'MistUsageTime', 'CO2Cost', 'CO2Usage', 'FertilizerCost', 'FertilizerUsage', 'WaterCost', 'WaterUsage', 'frtstJnt', 'hvstCo', 'flwrCo', 'hvstJnt', 'tcdmt', 'flanJnt', 'pllnLt', 'lefstalklt','lefstalklt','outWs','daysuplyqy', 'outtrn_cumsum', 'frmDist']).columns]      \n",
    "y = input_data[['outtrn_cumsum']]\n",
    "X_train, X_test, y_train, y_test = train_test_split(X, y, test_size=0.2, random_state=42)\n",
    "#random(300, 10, 1, 20, 42) 14567 / 0.860 -> 대박\n"
   ]
  },
  {
   "cell_type": "markdown",
   "metadata": {
    "id": "H3jfLE_uL1xD"
   },
   "source": [
    "# 현재최대 - random(300, 10, 1, 20, 42) - 2번째 데이터 29287 / 0.435"
   ]
  },
  {
   "cell_type": "code",
   "execution_count": 30,
   "metadata": {
    "colab": {
     "base_uri": "https://localhost:8080/"
    },
    "executionInfo": {
     "elapsed": 181472,
     "status": "ok",
     "timestamp": 1694882771306,
     "user": {
      "displayName": "김민석",
      "userId": "11524482620313840880"
     },
     "user_tz": -540
    },
    "id": "1KIG8flwL1xD",
    "outputId": "e923c0cd-8803-42bc-ad14-83f70fb9b1a3"
   },
   "outputs": [
    {
     "name": "stderr",
     "output_type": "stream",
     "text": [
      "/usr/local/lib/python3.10/dist-packages/sklearn/ensemble/_voting.py:597: DataConversionWarning: A column-vector y was passed when a 1d array was expected. Please change the shape of y to (n_samples, ), for example using ravel().\n",
      "  support sample weights.\n"
     ]
    }
   ],
   "source": [
    "# Initialize and train model\n",
    "\n",
    "# 랜덤 포레스트 회귀 모델\n",
    "#rf_model = RandomForestRegressor(random_state=42)\n",
    "\n",
    "#randomized_search로 얻어낸 하이퍼파라미터 적용\n",
    "new_rf_model = RandomForestRegressor(\n",
    "    n_estimators=300,\n",
    "    min_samples_split=10,\n",
    "    min_samples_leaf=1,\n",
    "    max_depth=20,\n",
    "    random_state=42  # 필요한 경우 랜덤 시드 설정\n",
    ")\n",
    "\n",
    "# 그라디언트 부스팅 회귀 모델\n",
    "gb_model = GradientBoostingRegressor(random_state=42)\n",
    "\n",
    "# 앙상블 모델 생성 (랜덤 포레스트와 그라디언트 부스팅을 결합)\n",
    "ensemble_model = VotingRegressor(estimators=[('RandomForest', new_rf_model), ('GradientBoosting', gb_model)])\n",
    "\n",
    "# 앙상블 모델 학습\n",
    "ensemble_model.fit(X_train, y_train)\n",
    "\n",
    "# 앙상블 모델 예측\n",
    "ensemble_predictions = ensemble_model.predict(X_test)"
   ]
  },
  {
   "cell_type": "code",
   "execution_count": 31,
   "metadata": {
    "executionInfo": {
     "elapsed": 547,
     "status": "ok",
     "timestamp": 1694882793297,
     "user": {
      "displayName": "김민석",
      "userId": "11524482620313840880"
     },
     "user_tz": -540
    },
    "id": "MrDuAOrtpBGf"
   },
   "outputs": [],
   "source": [
    "# Calculate RMSE between the predictions and actual 'y' values\n",
    "def calculate_rmse(targets, predictions):\n",
    "    \"\"\"\n",
    "    Calculate the Root Mean Squared Error (RMSE) between predicted and target values.\n",
    "\n",
    "    :param predictions: Predicted values.\n",
    "    :type predictions: array-like\n",
    "    :param targets: Target values.\n",
    "    :type targets: array-like\n",
    "    :return: RMSE value.\n",
    "    :rtype: float\n",
    "    \"\"\"\n",
    "    rmse = np.sqrt(mean_squared_error(targets, predictions))\n",
    "    return rmse # 가장 큰 값 리턴\n",
    "    #from sklearn.metrics import mean_squared_error\n",
    "    #return np.sqrt(mean_squared_error(targets, predictions))\n",
    "\n",
    "\n",
    "# Calculate r2_score between the predictions and actual 'y' values\n",
    "def calculate_R2_score(y_test,y_pred):\n",
    "    r2 = r2_score(y_test, y_pred)\n",
    "    return r2 # 가장 큰값 리턴\n",
    "    #from sklearn.metrics import r2_score\n",
    "    #return r2_score(y_test, y_pred)\n",
    "\n",
    "rmse = calculate_rmse(y_test, ensemble_predictions)\n",
    "r2score = calculate_R2_score(y_test, ensemble_predictions)\n",
    "# RMSE와 R^2 스코어 평가\n"
   ]
  },
  {
   "cell_type": "code",
   "execution_count": 32,
   "metadata": {
    "colab": {
     "base_uri": "https://localhost:8080/"
    },
    "executionInfo": {
     "elapsed": 656,
     "status": "ok",
     "timestamp": 1694882796443,
     "user": {
      "displayName": "김민석",
      "userId": "11524482620313840880"
     },
     "user_tz": -540
    },
    "id": "_hlN9YNTpBGg",
    "outputId": "23e10ebf-b432-42fd-da3b-f0009f2a8a9e"
   },
   "outputs": [
    {
     "name": "stdout",
     "output_type": "stream",
     "text": [
      "RMSE: 27976.03178991505\n",
      "R2_score: 0.48464076009363455\n"
     ]
    }
   ],
   "source": [
    "### OUTPUT ###\n",
    "print(\"RMSE:\", rmse)\n",
    "print(\"R2_score:\", r2score)\n"
   ]
  },
  {
   "cell_type": "markdown",
   "metadata": {
    "id": "nk6lth6MpBGg"
   },
   "source": [
    "# 테스트들 - 여기서 자질구레한거 하고 위에다 적용시키자"
   ]
  },
  {
   "cell_type": "code",
   "execution_count": null,
   "metadata": {
    "colab": {
     "base_uri": "https://localhost:8080/"
    },
    "collapsed": true,
    "id": "KXiT1gcXL1xD",
    "outputId": "f2011f6d-d240-4ad0-868c-b1a3a76b6829"
   },
   "outputs": [
    {
     "name": "stderr",
     "output_type": "stream",
     "text": [
      "/usr/local/lib/python3.10/dist-packages/sklearn/model_selection/_validation.py:686: DataConversionWarning: A column-vector y was passed when a 1d array was expected. Please change the shape of y to (n_samples,), for example using ravel().\n",
      "  estimator.fit(X_train, y_train, **fit_params)\n",
      "/usr/local/lib/python3.10/dist-packages/sklearn/model_selection/_validation.py:686: DataConversionWarning: A column-vector y was passed when a 1d array was expected. Please change the shape of y to (n_samples,), for example using ravel().\n",
      "  estimator.fit(X_train, y_train, **fit_params)\n",
      "/usr/local/lib/python3.10/dist-packages/sklearn/model_selection/_validation.py:686: DataConversionWarning: A column-vector y was passed when a 1d array was expected. Please change the shape of y to (n_samples,), for example using ravel().\n",
      "  estimator.fit(X_train, y_train, **fit_params)\n",
      "/usr/local/lib/python3.10/dist-packages/sklearn/model_selection/_validation.py:686: DataConversionWarning: A column-vector y was passed when a 1d array was expected. Please change the shape of y to (n_samples,), for example using ravel().\n",
      "  estimator.fit(X_train, y_train, **fit_params)\n",
      "/usr/local/lib/python3.10/dist-packages/sklearn/model_selection/_validation.py:686: DataConversionWarning: A column-vector y was passed when a 1d array was expected. Please change the shape of y to (n_samples,), for example using ravel().\n",
      "  estimator.fit(X_train, y_train, **fit_params)\n",
      "/usr/local/lib/python3.10/dist-packages/sklearn/model_selection/_validation.py:686: DataConversionWarning: A column-vector y was passed when a 1d array was expected. Please change the shape of y to (n_samples,), for example using ravel().\n",
      "  estimator.fit(X_train, y_train, **fit_params)\n",
      "/usr/local/lib/python3.10/dist-packages/sklearn/model_selection/_validation.py:686: DataConversionWarning: A column-vector y was passed when a 1d array was expected. Please change the shape of y to (n_samples,), for example using ravel().\n",
      "  estimator.fit(X_train, y_train, **fit_params)\n",
      "/usr/local/lib/python3.10/dist-packages/sklearn/model_selection/_validation.py:686: DataConversionWarning: A column-vector y was passed when a 1d array was expected. Please change the shape of y to (n_samples,), for example using ravel().\n",
      "  estimator.fit(X_train, y_train, **fit_params)\n",
      "/usr/local/lib/python3.10/dist-packages/sklearn/model_selection/_validation.py:686: DataConversionWarning: A column-vector y was passed when a 1d array was expected. Please change the shape of y to (n_samples,), for example using ravel().\n",
      "  estimator.fit(X_train, y_train, **fit_params)\n",
      "/usr/local/lib/python3.10/dist-packages/sklearn/model_selection/_validation.py:686: DataConversionWarning: A column-vector y was passed when a 1d array was expected. Please change the shape of y to (n_samples,), for example using ravel().\n",
      "  estimator.fit(X_train, y_train, **fit_params)\n",
      "/usr/local/lib/python3.10/dist-packages/sklearn/model_selection/_validation.py:686: DataConversionWarning: A column-vector y was passed when a 1d array was expected. Please change the shape of y to (n_samples,), for example using ravel().\n",
      "  estimator.fit(X_train, y_train, **fit_params)\n",
      "/usr/local/lib/python3.10/dist-packages/sklearn/model_selection/_validation.py:686: DataConversionWarning: A column-vector y was passed when a 1d array was expected. Please change the shape of y to (n_samples,), for example using ravel().\n",
      "  estimator.fit(X_train, y_train, **fit_params)\n",
      "/usr/local/lib/python3.10/dist-packages/sklearn/model_selection/_validation.py:686: DataConversionWarning: A column-vector y was passed when a 1d array was expected. Please change the shape of y to (n_samples,), for example using ravel().\n",
      "  estimator.fit(X_train, y_train, **fit_params)\n",
      "/usr/local/lib/python3.10/dist-packages/sklearn/model_selection/_validation.py:686: DataConversionWarning: A column-vector y was passed when a 1d array was expected. Please change the shape of y to (n_samples,), for example using ravel().\n",
      "  estimator.fit(X_train, y_train, **fit_params)\n",
      "/usr/local/lib/python3.10/dist-packages/sklearn/model_selection/_validation.py:686: DataConversionWarning: A column-vector y was passed when a 1d array was expected. Please change the shape of y to (n_samples,), for example using ravel().\n",
      "  estimator.fit(X_train, y_train, **fit_params)\n",
      "/usr/local/lib/python3.10/dist-packages/sklearn/model_selection/_validation.py:686: DataConversionWarning: A column-vector y was passed when a 1d array was expected. Please change the shape of y to (n_samples,), for example using ravel().\n",
      "  estimator.fit(X_train, y_train, **fit_params)\n",
      "/usr/local/lib/python3.10/dist-packages/sklearn/model_selection/_validation.py:686: DataConversionWarning: A column-vector y was passed when a 1d array was expected. Please change the shape of y to (n_samples,), for example using ravel().\n",
      "  estimator.fit(X_train, y_train, **fit_params)\n"
     ]
    }
   ],
   "source": [
    "#Grid 또는 Randomaized search 이용 - 하이퍼 파라미터 튜닝\n",
    "\n",
    "# 랜덤 포레스트 회귀 모델\n",
    "rf_model = RandomForestRegressor(random_state=42)\n",
    "\n",
    "param_ = {\n",
    "    'n_estimators': [100, 200, 300],  # 트리의 개수\n",
    "    'max_depth': [None, 10, 20, 30],  # 최대 트리 깊이\n",
    "    'min_samples_split': [2, 5, 10],  # 노드를 분할하기 위한 최소한의 샘플 개수\n",
    "    'min_samples_leaf': [1, 2, 4]  # 리프 노드에 필요한 최소한의 샘플 개수\n",
    "}\n",
    "\n",
    "#grid_search = GridSearchCV(estimator=rf_model, param_grid=param_, cv=5, n_jobs=-1, scoring='neg_mean_squared_error')\n",
    "random_search = RandomizedSearchCV(rf_model, param_, cv=5, n_iter=10) # n_iter개 조합을 랜덤으로 뽑아서 최적인 거 선정\n",
    "\n",
    "#best_model = grid_search.fit(X_train, y_train)\n",
    "best_model = random_search.fit(X_train, y_train)\n",
    "\n",
    "# 최적의 하이퍼파라미터를 얻습니다. - 이거 거의 1시간 넘게 돌려서 얻음.. {'n_estimators': 200, 'min_samples_split': 5, 'min_samples_leaf': 4, 'max_depth': 10}\n",
    "#시간 12:43 random search 실행, 01:38 종료(기존 데이터셋으로, 10개) - {'n_estimators': 300, 'min_samples_split': 10, 'min_samples_leaf': 1, 'max_depth': 20}\n",
    "#시간 01:48 random search 실행(두번째 데이터셋으로, 10개) - {'n_estimators': 300, 'min_samples_split': 10, 'min_samples_leaf': 1, 'max_depth': 20} / 이거로 해야겠다\n",
    "#시간 03:29 random search 실행(두번째 데이터셋으로, 82개) - 진짜 끝판왕\n",
    "print(best_model.best_params_)"
   ]
  },
  {
   "cell_type": "code",
   "execution_count": null,
   "metadata": {
    "id": "NWssXfpJpBGh"
   },
   "outputs": [],
   "source": []
  },
  {
   "cell_type": "code",
   "execution_count": null,
   "metadata": {
    "id": "AOaC_0u5pBGh"
   },
   "outputs": [],
   "source": []
  },
  {
   "cell_type": "code",
   "execution_count": null,
   "metadata": {
    "id": "joru7E8UpBGh"
   },
   "outputs": [],
   "source": []
  },
  {
   "cell_type": "code",
   "execution_count": null,
   "metadata": {
    "id": "V5IsCjJApBGh"
   },
   "outputs": [],
   "source": [
    "# 최적의 하이퍼파라미터를 사용하여 모델을 생성합니다.\n",
    "best_model = RandomForestRegressor(**best_params)\n",
    "\n",
    "# 최적 모델을 학습합니다.\n",
    "best_model.fit(X_train, y_train)\n",
    "\n",
    "# 최적 모델을 사용하여 예측을 수행합니다.\n",
    "grid_predictions = best_model.predict(X_test)\n",
    "\n",
    "grid_rmse = calculate_rmse(y_test, grid_predictions)\n",
    "grid_r2score = calculate_R2_score(y_test, grid_predictions)\n",
    "print(f\"grid RMSE: {grid_rmse:.2f}\")\n",
    "print(f\"grid R^2 Score: {grid_r2score:.2f}\")"
   ]
  },
  {
   "cell_type": "code",
   "execution_count": null,
   "metadata": {
    "id": "jIiiykrOpBGi"
   },
   "outputs": [],
   "source": []
  },
  {
   "cell_type": "code",
   "execution_count": null,
   "metadata": {
    "id": "-azl2JjapBGi"
   },
   "outputs": [],
   "source": []
  },
  {
   "cell_type": "code",
   "execution_count": null,
   "metadata": {
    "id": "pyUNw5WDpBGi"
   },
   "outputs": [],
   "source": []
  },
  {
   "cell_type": "code",
   "execution_count": null,
   "metadata": {
    "collapsed": true,
    "id": "iPLJVcChL1xD",
    "outputId": "09b5e4d1-cf27-4571-ef2e-6b9cfda5eea7"
   },
   "outputs": [
    {
     "name": "stderr",
     "output_type": "stream",
     "text": [
      "C:\\Users\\ooooo\\anaconda3\\lib\\site-packages\\sklearn\\model_selection\\_validation.py:686: DataConversionWarning: A column-vector y was passed when a 1d array was expected. Please change the shape of y to (n_samples,), for example using ravel().\n",
      "  estimator.fit(X_train, y_train, **fit_params)\n",
      "C:\\Users\\ooooo\\anaconda3\\lib\\site-packages\\sklearn\\model_selection\\_validation.py:686: DataConversionWarning: A column-vector y was passed when a 1d array was expected. Please change the shape of y to (n_samples,), for example using ravel().\n",
      "  estimator.fit(X_train, y_train, **fit_params)\n",
      "C:\\Users\\ooooo\\anaconda3\\lib\\site-packages\\sklearn\\model_selection\\_validation.py:686: DataConversionWarning: A column-vector y was passed when a 1d array was expected. Please change the shape of y to (n_samples,), for example using ravel().\n",
      "  estimator.fit(X_train, y_train, **fit_params)\n",
      "C:\\Users\\ooooo\\anaconda3\\lib\\site-packages\\sklearn\\model_selection\\_validation.py:686: DataConversionWarning: A column-vector y was passed when a 1d array was expected. Please change the shape of y to (n_samples,), for example using ravel().\n",
      "  estimator.fit(X_train, y_train, **fit_params)\n",
      "C:\\Users\\ooooo\\anaconda3\\lib\\site-packages\\sklearn\\model_selection\\_validation.py:686: DataConversionWarning: A column-vector y was passed when a 1d array was expected. Please change the shape of y to (n_samples,), for example using ravel().\n",
      "  estimator.fit(X_train, y_train, **fit_params)\n",
      "C:\\Users\\ooooo\\anaconda3\\lib\\site-packages\\sklearn\\model_selection\\_validation.py:686: DataConversionWarning: A column-vector y was passed when a 1d array was expected. Please change the shape of y to (n_samples,), for example using ravel().\n",
      "  estimator.fit(X_train, y_train, **fit_params)\n",
      "C:\\Users\\ooooo\\anaconda3\\lib\\site-packages\\sklearn\\model_selection\\_validation.py:686: DataConversionWarning: A column-vector y was passed when a 1d array was expected. Please change the shape of y to (n_samples,), for example using ravel().\n",
      "  estimator.fit(X_train, y_train, **fit_params)\n",
      "C:\\Users\\ooooo\\anaconda3\\lib\\site-packages\\sklearn\\model_selection\\_validation.py:686: DataConversionWarning: A column-vector y was passed when a 1d array was expected. Please change the shape of y to (n_samples,), for example using ravel().\n",
      "  estimator.fit(X_train, y_train, **fit_params)\n",
      "C:\\Users\\ooooo\\anaconda3\\lib\\site-packages\\sklearn\\model_selection\\_validation.py:686: DataConversionWarning: A column-vector y was passed when a 1d array was expected. Please change the shape of y to (n_samples,), for example using ravel().\n",
      "  estimator.fit(X_train, y_train, **fit_params)\n",
      "C:\\Users\\ooooo\\anaconda3\\lib\\site-packages\\sklearn\\model_selection\\_validation.py:686: DataConversionWarning: A column-vector y was passed when a 1d array was expected. Please change the shape of y to (n_samples,), for example using ravel().\n",
      "  estimator.fit(X_train, y_train, **fit_params)\n",
      "C:\\Users\\ooooo\\anaconda3\\lib\\site-packages\\sklearn\\model_selection\\_validation.py:686: DataConversionWarning: A column-vector y was passed when a 1d array was expected. Please change the shape of y to (n_samples,), for example using ravel().\n",
      "  estimator.fit(X_train, y_train, **fit_params)\n",
      "\n",
      "KeyboardInterrupt\n",
      "\n"
     ]
    }
   ],
   "source": [
    "# 개별 랜덤 포레스트 모델과 그 파라미터 그리드/랜덤을 정의합니다.\n",
    "rf_model = RandomForestRegressor(random_state=42)\n",
    "param_ = {\n",
    "    'n_estimators': [100, 200, 300],\n",
    "    'max_depth': [None, 10, 20],\n",
    "    'min_samples_split': [2, 5, 10],\n",
    "    'min_samples_leaf': [1, 2, 4]\n",
    "}\n",
    "\n",
    "# GridSearchCV/RandomizedSearchCV 를 사용하여 개별 모델 파라미터 튜닝을 수행합니다.\n",
    "grid_search = GridSearchCV(estimator=rf_model, param_grid=param_, cv=5, scoring='neg_mean_squared_error')\n",
    "#random_search = RandomizedSearchCV(extimator=rf_model, param_, cv=5, n_iter=10)\n",
    "\n",
    "grid_search.fit(X_train, y_train)\n",
    "best_rf_model = grid_search.best_estimator_\n",
    "\n",
    "# 앙상블 모델을 생성하고 앙상블 파라미터 그리드를 정의합니다.\n",
    "ensemble_model = VotingRegressor(estimators=[('RandomForest', best_rf_model)], n_jobs=-1)\n",
    "ensemble_param_grid = {\n",
    "    'weights': [[1, 1], [1, 2], [2, 1]]  # 개별 모델의 가중치\n",
    "}\n",
    "\n",
    "# GridSearchCV를 사용하여 앙상블 파라미터 튜닝을 수행합니다.\n",
    "ensemble_grid_search = GridSearchCV(estimator=ensemble_model, param_grid=ensemble_param_grid, cv=5, scoring='neg_mean_squared_error')\n",
    "ensemble_grid_search.fit(X_train, y_train)\n",
    "best_ensemble_model = ensemble_grid_search.best_estimator_\n",
    "\n",
    "# 최적의 앙상블 모델을 사용하여 예측을 수행합니다.\n",
    "y_pred = best_ensemble_model.predict(X_test)\n",
    "\n",
    "# 예측 결과를 평가합니다.\n",
    "mse = mean_squared_error(y_test, y_pred)\n",
    "rmse = np.sqrt(mse)\n",
    "print(\"RMSE:\", rmse)"
   ]
  },
  {
   "cell_type": "code",
   "execution_count": null,
   "metadata": {
    "id": "n2Yj0TnnL1xD",
    "outputId": "1f9c8bcd-e0e3-443f-f0f8-951e47617d63"
   },
   "outputs": [
    {
     "name": "stdout",
     "output_type": "stream",
     "text": [
      "linear RMSE: 33560.94\n",
      "linear R^2 Score: 0.26\n",
      "Ensemble RMSE: 32033.75\n",
      "Ensemble R^2 Score: 0.32\n"
     ]
    }
   ],
   "source": []
  },
  {
   "cell_type": "code",
   "execution_count": null,
   "metadata": {
    "id": "Bm_5G4yUL1xD"
   },
   "outputs": [],
   "source": []
  },
  {
   "cell_type": "code",
   "execution_count": null,
   "metadata": {
    "id": "zL4v3BvhL1xD"
   },
   "outputs": [],
   "source": []
  },
  {
   "cell_type": "code",
   "execution_count": null,
   "metadata": {
    "id": "PeF6fBV_L1xD"
   },
   "outputs": [],
   "source": []
  },
  {
   "cell_type": "code",
   "execution_count": null,
   "metadata": {
    "id": "laJ8hu3YL1xD",
    "outputId": "d98f9f46-c947-406b-d04d-17cc0309014c"
   },
   "outputs": [
    {
     "name": "stdout",
     "output_type": "stream",
     "text": [
      "RMSE: 32033.746060309655\n",
      "R2_score: 0.3243009655667558\n"
     ]
    }
   ],
   "source": []
  },
  {
   "cell_type": "code",
   "execution_count": null,
   "metadata": {
    "id": "ySSS4_9GpBGj"
   },
   "outputs": [],
   "source": [
    "# 일단 뽑아주신 피처들만 넣어서 돌려보자"
   ]
  },
  {
   "cell_type": "code",
   "execution_count": null,
   "metadata": {
    "id": "nmBgsicfpBGj"
   },
   "outputs": [],
   "source": []
  },
  {
   "cell_type": "code",
   "execution_count": null,
   "metadata": {
    "id": "u5xI-UUdpBGj"
   },
   "outputs": [],
   "source": [
    "# 두 피처간의 관계\n",
    "plt.figure(figsize=(15,10))\n",
    "sns.pairplot(df,hue=\"outtrn_cumsum\") #해당 열을 기준으로 각 데이터포인트를 색으로 구분\n",
    "plt.title(\"Looking for Insites in Data\")\n",
    "plt.legend(\"HeartDisease\")\n",
    "plt.tight_layout()\n",
    "plt.plot()"
   ]
  },
  {
   "cell_type": "code",
   "execution_count": null,
   "metadata": {
    "id": "KnaaHudIpBGj"
   },
   "outputs": [],
   "source": [
    "# 히트맵 생성 테스트\n",
    "import seaborn as sns\n",
    "import matplotlib.pyplot as plt\n",
    "\n",
    "# 예제 데이터 생성\n",
    "data = [[1, 2, 3], [4, 5, 6], [7, 8, 9]]\n",
    "\n",
    "# Heatmap 생성\n",
    "sns.heatmap(data)\n",
    "\n",
    "# 그래프 저장\n",
    "plt.savefig(\"heatmap.png\")  # 파일명은 원하는 대로 지정합니다.\n"
   ]
  },
  {
   "cell_type": "code",
   "execution_count": null,
   "metadata": {
    "id": "HbhhwipspBGj"
   },
   "outputs": [],
   "source": [
    "# 타이타닉 셋에 있던거 테스트\n",
    "import matplotlib.pyplot as plt\n",
    "%matplotlib inline\n",
    "import seaborn as sns\n",
    "\n",
    "train = pd.read_csv('2023_smartFarm_AI_hackathon_dataset.csv')  # 학습시킬 데이터셋\n",
    "#test = pd.read_csv('input/test.csv')    # 테스트를 시킬 데이터셋(survived 필드가 없음)\n",
    "\n",
    "# 요일별 퇴근 시간 평균 탑승객 수 시각화\n",
    "selected_features = ['ec', 'outtrn_cumsum']\n",
    "train = train_data[selected_features]\n",
    "sns.barplot(x=\"ec\", y=\"outtrn_cumsum\", data=train)\n",
    "plt.title(\"요일에 따른 퇴근 시간 평균 탑승객 수\")\n",
    "plt.show()\n"
   ]
  },
  {
   "cell_type": "code",
   "execution_count": null,
   "metadata": {
    "id": "u47EBfFDpBGk"
   },
   "outputs": [],
   "source": [
    "#Grid 또는 Randomaized search 이용 - 하이퍼 파라미터 튜닝\n",
    "\n",
    "# 랜덤 포레스트 회귀 모델\n",
    "rf_model = RandomForestRegressor(random_state=42)\n",
    "\n",
    "param_ = {\n",
    "    'n_estimators': [100, 200, 300],  # 트리의 개수\n",
    "    'max_depth': [None, 10, 20, 30],  # 최대 트리 깊이\n",
    "    'min_samples_split': [2, 5, 10],  # 노드를 분할하기 위한 최소한의 샘플 개수\n",
    "    'min_samples_leaf': [1, 2, 4]  # 리프 노드에 필요한 최소한의 샘플 개수\n",
    "}\n",
    "\n",
    "#grid_search = GridSearchCV(estimator=rf_model, param_grid=param_grid, cv=5, n_jobs=-1, scoring='neg_mean_squared_error')\n",
    "random_search = RandomizedSearchCV(rf_model, param_, cv=5, n_iter=10) # n_iter개 조합을 랜덤으로 뽑아서 최적인 거 선정\n",
    "\n",
    "#best_model = grid_search.fit(X_train, y_train)\n",
    "best_model = random_search.fit(X_train, y_train)\n",
    "\n",
    "# 최적의 하이퍼파라미터를 얻습니다. - 이거 거의 1시간 넘게 돌려서 얻음.. {'n_estimators': 200, 'min_samples_split': 5, 'min_samples_leaf': 4, 'max_depth': 10}\n",
    "print(best_model.best_params_)"
   ]
  },
  {
   "cell_type": "code",
   "execution_count": 3,
   "metadata": {
    "id": "5rGZy8W9pBGk"
   },
   "outputs": [
    {
     "name": "stdout",
     "output_type": "stream",
     "text": [
      "RMSE: 9650.39978142376\n",
      "R2_score: 0.938676285749752\n"
     ]
    }
   ],
   "source": [
    "import pandas as pd\n",
    "import numpy as np\n",
    "from sklearn.model_selection import train_test_split\n",
    "from sklearn.ensemble import RandomForestRegressor\n",
    "from sklearn.metrics import mean_squared_error, r2_score\n",
    "\n",
    "input_data = pd.read_csv(\"2023_smartFarm_AI_hackathon_dataset.csv\")\n",
    "\n",
    "X = input_data[input_data.drop(columns=['Mist Cost', 'MistUsageTime', 'CO2Cost', 'CO2Usage', 'FertilizerCost', 'FertilizerUsage', 'WaterCost', 'WaterUsage', 'frtstJnt', 'hvstCo', 'flwrCo', 'hvstJnt', 'tcdmt', 'flanJnt', 'pllnLt','lefstalklt','outWs','daysuplyqy', 'outtrn_cumsum', 'frmDist']).columns]      \n",
    "Y = input_data['outtrn_cumsum'].values.ravel()\n",
    "\n",
    "X_train, X_test, y_train, y_test = train_test_split(X, Y, test_size=0.2, random_state=42)\n",
    "\n",
    "model = RandomForestRegressor(n_estimators=100, random_state=42)\n",
    "model.fit(X_train, y_train)\n",
    "\n",
    "y_pred = model.predict(X_test)\n",
    "\n",
    "def calculate_rmse(targets, predictions):\n",
    "    return np.sqrt(mean_squared_error(targets, predictions))\n",
    "\n",
    "rmse = calculate_rmse(y_test, y_pred)\n",
    "\n",
    "r2score = r2_score(y_test, y_pred)\n",
    "\n",
    "print(\"RMSE:\", rmse)\n",
    "print(\"R2_score:\", r2score)"
   ]
  },
  {
   "cell_type": "code",
   "execution_count": null,
   "metadata": {
    "id": "WHlxS8ZJpBGk"
   },
   "outputs": [],
   "source": []
  },
  {
   "cell_type": "code",
   "execution_count": null,
   "metadata": {
    "id": "Wih8lsU_pBGk"
   },
   "outputs": [],
   "source": []
  }
 ],
 "metadata": {
  "accelerator": "GPU",
  "colab": {
   "gpuType": "T4",
   "machine_shape": "hm",
   "provenance": []
  },
  "kernelspec": {
   "display_name": "Python 3 (ipykernel)",
   "language": "python",
   "name": "python3"
  },
  "language_info": {
   "codemirror_mode": {
    "name": "ipython",
    "version": 3
   },
   "file_extension": ".py",
   "mimetype": "text/x-python",
   "name": "python",
   "nbconvert_exporter": "python",
   "pygments_lexer": "ipython3",
   "version": "3.10.9"
  }
 },
 "nbformat": 4,
 "nbformat_minor": 1
}
