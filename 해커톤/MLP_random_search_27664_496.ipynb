{
 "cells": [
  {
   "cell_type": "markdown",
   "metadata": {
    "id": "mzhhVZa7L1w3"
   },
   "source": [
    "# INPUT"
   ]
  },
  {
   "cell_type": "code",
   "execution_count": 25,
   "metadata": {
    "id": "2wiZqUO3vD0K"
   },
   "outputs": [],
   "source": [
    "# !pip install -r requirements.txt"
   ]
  },
  {
   "cell_type": "code",
   "execution_count": 32,
   "metadata": {
    "executionInfo": {
     "elapsed": 417,
     "status": "ok",
     "timestamp": 1694892961365,
     "user": {
      "displayName": "김민석",
      "userId": "11524482620313840880"
     },
     "user_tz": -540
    },
    "id": "PrkJN9VAL1w7"
   },
   "outputs": [],
   "source": [
    "###  INPUT ###\n",
    "import pandas as pd\n",
    "input_data = pd.read_csv('2023_smartFarm_AI_hackathon_dataset.csv')"
   ]
  },
  {
   "cell_type": "markdown",
   "metadata": {
    "id": "su5MSfbQL1xC"
   },
   "source": [
    "# 모델링 시작"
   ]
  },
  {
   "cell_type": "code",
   "execution_count": 33,
   "metadata": {
    "executionInfo": {
     "elapsed": 651,
     "status": "ok",
     "timestamp": 1694892963145,
     "user": {
      "displayName": "김민석",
      "userId": "11524482620313840880"
     },
     "user_tz": -540
    },
    "id": "UdtNxbvCL1xC"
   },
   "outputs": [],
   "source": [
    "#    Write codes...\n",
    "# ... (Data preprocessing code here)\n",
    "\n",
    "#데이터셋 로드\n",
    "input_data = pd.read_csv('2023_smartFarm_AI_hackathon_dataset.csv')\n"
   ]
  },
  {
   "cell_type": "code",
   "execution_count": 34,
   "metadata": {
    "executionInfo": {
     "elapsed": 11,
     "status": "ok",
     "timestamp": 1694892964156,
     "user": {
      "displayName": "김민석",
      "userId": "11524482620313840880"
     },
     "user_tz": -540
    },
    "id": "XfufA8-RL1xC"
   },
   "outputs": [],
   "source": [
    "# 모델링 준비\n",
    "import math\n",
    "import numpy as np\n",
    "#from sklearn.datasets import load_boston\n",
    "from sklearn.model_selection import train_test_split\n",
    "from sklearn.ensemble import RandomForestRegressor, GradientBoostingRegressor, VotingRegressor\n",
    "from sklearn.metrics import mean_squared_error, r2_score\n",
    "from sklearn.linear_model import LinearRegression\n",
    "\n",
    "# 파라미터 튜닝\n",
    "from sklearn.model_selection import RandomizedSearchCV\n",
    "from sklearn.model_selection import GridSearchCV\n",
    "\n",
    "# 대충 돌릴때 체크 : cross-val\n",
    "from sklearn.model_selection import cross_val_score\n",
    "\n",
    "# 평가\n",
    "from sklearn.metrics import accuracy_score"
   ]
  },
  {
   "cell_type": "code",
   "execution_count": 36,
   "metadata": {
    "executionInfo": {
     "elapsed": 4,
     "status": "ok",
     "timestamp": 1694892965869,
     "user": {
      "displayName": "김민석",
      "userId": "11524482620313840880"
     },
     "user_tz": -540
    },
    "id": "qn7yQrNvL1xC"
   },
   "outputs": [],
   "source": [
    "\n",
    "# Split the data into training and testing sets\n",
    "\n",
    "# 데이터 분할 (훈련 세트와 테스트 세트)\n",
    "#X = input_data[['ec', 'cunt', 'HeatingEnergyUsage_cumsum', 'hvstCo', 'frtstCo']] # 초기에 진행했던 데이터\n",
    "\n",
    "\n",
    "X = input_data[['ec', 'cunt', 'HeatingEnergyUsage_cumsum', 'hvstCo', 'frtstCo', 'inTp', 'inHd', 'inCo2', 'acSlrdQy',\n",
    "               'grwtLt', 'frtstSetCo', 'FertilizerUsage', 'CO2Usage', 'MistUsageTime']]\n",
    "\n",
    "#X = input_data[input_data.drop(columns=['outtrn_cumsum', 'frmDist']).columns]  # 세번째 데이터 - object타입 빼고 다 때려박기\n",
    "#X = input_data[input_data.drop(columns=['Mist Cost', 'MistUsageTime', 'CO2Cost', 'CO2Usage', 'FertilizerCost', 'FertilizerUsage', 'WaterCost', 'WaterUsage', 'frtstJnt', 'hvstCo', 'flwrCo', 'hvstJnt', 'tcdmt', 'flanJnt', 'pllnLt', 'lefstalklt','lefstalklt','outWs','daysuplyqy', 'outtrn_cumsum', 'frmDist']).columns]\n",
    "  #네번째 데이터 - 0 많은 컬럼 삭제\n",
    "\n",
    "y = input_data[['outtrn_cumsum']]\n",
    "\n",
    "\n",
    "X_train, X_test, y_train, y_test = train_test_split(X, y, test_size=0.2, random_state=42)\n"
   ]
  },
  {
   "cell_type": "markdown",
   "metadata": {
    "id": "H3jfLE_uL1xD"
   },
   "source": [
    "# 현재최대 - modeling 파일 참고"
   ]
  },
  {
   "cell_type": "code",
   "execution_count": 37,
   "metadata": {
    "colab": {
     "base_uri": "https://localhost:8080/"
    },
    "executionInfo": {
     "elapsed": 757768,
     "status": "ok",
     "timestamp": 1694893734916,
     "user": {
      "displayName": "김민석",
      "userId": "11524482620313840880"
     },
     "user_tz": -540
    },
    "id": "SRpM3SisS_ur",
    "outputId": "821d49da-2a28-49ea-de51-a47d02beb223"
   },
   "outputs": [
    {
     "name": "stderr",
     "output_type": "stream",
     "text": [
      "C:\\Users\\ooooo\\anaconda3\\lib\\site-packages\\sklearn\\neural_network\\_multilayer_perceptron.py:1617: DataConversionWarning: A column-vector y was passed when a 1d array was expected. Please change the shape of y to (n_samples, ), for example using ravel().\n",
      "  y = column_or_1d(y, warn=True)\n"
     ]
    }
   ],
   "source": [
    "from sklearn.neural_network import MLPRegressor\n",
    "from sklearn.preprocessing import MinMaxScaler\n",
    "from sklearn.model_selection import train_test_split\n",
    "from sklearn.metrics import mean_squared_error\n",
    "\n",
    "# 데이터 로드 또는 생성 (X와 y를 사용자 데이터로 대체)\n",
    "# X, y = ... 설정완료\n",
    "\n",
    "\n",
    "# 데이터를 학습 세트와 테스트 세트로 분할\n",
    "X_train, X_test, y_train, y_test = train_test_split(X, y, test_size=0.2, random_state=42)\n",
    "'''\n",
    "최적 하이퍼파라미터: {'activation': 'relu', 'alpha': 0.0016601864044243652, 'hidden_layer_sizes': (100, 50, 25), 'learning_rate_init': 0.01099749158180029, 'max_iter': 600}\n",
    "최고 성능 (평가 지표): 763837967.5501446\n",
    "'''\n",
    "# Min-Max 스케일러 초기화 및 적용\n",
    "scaler = MinMaxScaler()\n",
    "X_train_normalized = scaler.fit_transform(X_train)\n",
    "X_test_normalized = scaler.transform(X_test)\n",
    "\n",
    "# MLP 모델 초기화 및 설정\n",
    "model = MLPRegressor(\n",
    "    activation='relu',  # 'activation' 하이퍼파라미터 설정\n",
    "    alpha=0.0016601864044243652,  # 'alpha' 하이퍼파라미터 설정\n",
    "    hidden_layer_sizes=(100, 50, 25),  # 'hidden_layer_sizes' 하이퍼파라미터 설정\n",
    "    learning_rate_init=0.01099749158180029,  # 'learning_rate_init' 하이퍼파라미터 설정\n",
    "    max_iter=600  # 'max_iter' 하이퍼파라미터 설정\n",
    ")\n",
    "\n",
    "# 모델 학습\n",
    "model.fit(X_train_normalized, y_train)\n",
    "\n",
    "# 학습된 모델을 사용하여 예측\n",
    "deep_predictions = model.predict(X_test_normalized)\n"
   ]
  },
  {
   "cell_type": "code",
   "execution_count": 40,
   "metadata": {
    "executionInfo": {
     "elapsed": 251,
     "status": "ok",
     "timestamp": 1694893990493,
     "user": {
      "displayName": "김민석",
      "userId": "11524482620313840880"
     },
     "user_tz": -540
    },
    "id": "klLXd0doS_w_"
   },
   "outputs": [],
   "source": [
    "# Calculate RMSE between the predictions and actual 'y' values\n",
    "def calculate_rmse(targets, predictions):\n",
    "    return np.sqrt(mean_squared_error(targets, predictions)) # 가장 큰 값 리턴\n",
    "    #from sklearn.metrics import mean_squared_error\n",
    "    #return np.sqrt(mean_squared_error(targets, predictions))\n",
    "\n",
    "\n",
    "# Calculate r2_score between the predictions and actual 'y' values\n",
    "def calculate_R2_score(y_test,y_pred):\n",
    "    return r2_score(y_test, y_pred) # 가장 큰값 리턴\n",
    "    #from sklearn.metrics import r2_score\n",
    "    #return r2_score(y_test, y_pred)\n",
    "\n",
    "rmse = calculate_rmse(y_test, deep_predictions)\n",
    "r2score = calculate_R2_score(y_test, deep_predictions)\n",
    "# RMSE와 R^2 스코어 평가\n",
    "\n"
   ]
  },
  {
   "cell_type": "code",
   "execution_count": 41,
   "metadata": {
    "colab": {
     "base_uri": "https://localhost:8080/"
    },
    "executionInfo": {
     "elapsed": 272,
     "status": "ok",
     "timestamp": 1694893992090,
     "user": {
      "displayName": "김민석",
      "userId": "11524482620313840880"
     },
     "user_tz": -540
    },
    "id": "4grHgcxzS_zT",
    "outputId": "def24387-a831-47eb-c6dd-31396a2e9682"
   },
   "outputs": [
    {
     "name": "stdout",
     "output_type": "stream",
     "text": [
      "RMSE: 28326.54385864399\n",
      "R2_score: 0.4716459756403498\n"
     ]
    }
   ],
   "source": [
    "### OUTPUT ###\n",
    "print(\"RMSE:\", rmse)\n",
    "print(\"R2_score:\", r2score)\n"
   ]
  },
  {
   "cell_type": "code",
   "execution_count": 95,
   "metadata": {
    "colab": {
     "base_uri": "https://localhost:8080/"
    },
    "executionInfo": {
     "elapsed": 1633979,
     "status": "ok",
     "timestamp": 1694892680989,
     "user": {
      "displayName": "김민석",
      "userId": "11524482620313840880"
     },
     "user_tz": -540
    },
    "id": "yrgiHka9S_1g",
    "outputId": "0d4b259c-ceb0-4794-b309-1a8417efb117"
   },
   "outputs": [
    {
     "name": "stderr",
     "output_type": "stream",
     "text": [
      "/usr/local/lib/python3.10/dist-packages/sklearn/neural_network/_multilayer_perceptron.py:1623: DataConversionWarning: A column-vector y was passed when a 1d array was expected. Please change the shape of y to (n_samples, ), for example using ravel().\n",
      "  y = column_or_1d(y, warn=True)\n"
     ]
    },
    {
     "name": "stdout",
     "output_type": "stream",
     "text": [
      "최적 하이퍼파라미터: {'activation': 'relu', 'alpha': 0.0016601864044243652, 'hidden_layer_sizes': (100, 50, 25), 'learning_rate_init': 0.01099749158180029, 'max_iter': 558}\n",
      "최고 성능 (평가 지표): 763837967.5501446\n"
     ]
    }
   ],
   "source": [
    "'''\n",
    "#random search로 최적화하기\n",
    "import numpy as np\n",
    "from sklearn.neural_network import MLPRegressor\n",
    "from sklearn.model_selection import RandomizedSearchCV\n",
    "from scipy.stats import randint, uniform\n",
    "\n",
    "# MLP 모델 초기화\n",
    "mlp = MLPRegressor()\n",
    "\n",
    "# 탐색할 하이퍼파라미터 범위 설정\n",
    "param_dist = {\n",
    "    'hidden_layer_sizes': [(100,), (50, 50), (100, 50, 25)],\n",
    "    'activation': ['relu', 'tanh', 'logistic'],\n",
    "    'alpha': uniform(0.0001, 0.01),  # L2 정규화 파라미터\n",
    "    'learning_rate_init': uniform(0.001, 0.1),\n",
    "    'max_iter': randint(100, 1000),\n",
    "}\n",
    "\n",
    "# 랜덤 서치 설정\n",
    "random_search = RandomizedSearchCV(\n",
    "    mlp, param_distributions=param_dist, n_iter=10, cv=5, n_jobs=-1, scoring='neg_mean_squared_error', random_state=42) #n_iter 수만큼 랜덤으로 선정해서 고르는거\n",
    "\n",
    "# 랜덤 서치 실행\n",
    "random_search.fit(X_train_normalized, y_train)\n",
    "#random_search.fit(X,y) - 수정함\n",
    "\n",
    "# 최적 하이퍼파라미터와 모델의 성능 출력\n",
    "print(\"최적 하이퍼파라미터:\", random_search.best_params_)\n",
    "print(\"최고 성능 (평가 지표):\", -random_search.best_score_)\n",
    "\n",
    "# 최적 모델 가져오기\n",
    "best_mlp = random_search.best_estimator_\n",
    "\n",
    "# 04:04 실행 시작 04:31 종료 - 1트\n",
    "'''\n",
    "'''\n",
    "최적 하이퍼파라미터: {'activation': 'relu', 'alpha': 0.0016601864044243652, 'hidden_layer_sizes': (100, 50, 25), 'learning_rate_init': 0.01099749158180029, 'max_iter': 558}\n",
    "최고 성능 (평가 지표): 763837967.5501446\n",
    "\n",
    "'''"
   ]
  }
 ],
 "metadata": {
  "accelerator": "TPU",
  "colab": {
   "machine_shape": "hm",
   "provenance": []
  },
  "kernelspec": {
   "display_name": "Python 3 (ipykernel)",
   "language": "python",
   "name": "python3"
  },
  "language_info": {
   "codemirror_mode": {
    "name": "ipython",
    "version": 3
   },
   "file_extension": ".py",
   "mimetype": "text/x-python",
   "name": "python",
   "nbconvert_exporter": "python",
   "pygments_lexer": "ipython3",
   "version": "3.10.9"
  }
 },
 "nbformat": 4,
 "nbformat_minor": 1
}
