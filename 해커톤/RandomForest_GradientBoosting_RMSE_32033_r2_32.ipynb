{
 "cells": [
  {
   "cell_type": "markdown",
   "metadata": {
    "id": "mzhhVZa7L1w3"
   },
   "source": [
    "# INPUT"
   ]
  },
  {
   "cell_type": "code",
   "execution_count": 20,
   "metadata": {
    "id": "PrkJN9VAL1w7"
   },
   "outputs": [],
   "source": [
    "###  INPUT ###\n",
    "import pandas as pd\n",
    "input_data = pd.read_csv('2023_smartFarm_AI_hackathon_dataset.csv')"
   ]
  },
  {
   "cell_type": "markdown",
   "metadata": {
    "id": "-Q6t8XxgL1w8"
   },
   "source": [
    "# Modeling"
   ]
  },
  {
   "cell_type": "code",
   "execution_count": 25,
   "metadata": {
    "id": "UdtNxbvCL1xC"
   },
   "outputs": [],
   "source": [
    "#데이터셋 로드\n",
    "input_data = pd.read_csv('2023_smartFarm_AI_hackathon_dataset.csv')\n"
   ]
  },
  {
   "cell_type": "code",
   "execution_count": 26,
   "metadata": {
    "id": "XfufA8-RL1xC"
   },
   "outputs": [],
   "source": [
    "# 모델링 준비\n",
    "import math\n",
    "import numpy as np\n",
    "#from sklearn.datasets import load_boston\n",
    "from sklearn.model_selection import train_test_split\n",
    "from sklearn.ensemble import RandomForestRegressor, GradientBoostingRegressor, VotingRegressor\n",
    "from sklearn.metrics import mean_squared_error, r2_score\n",
    "from sklearn.linear_model import LinearRegression\n",
    "\n",
    "# 파라미터 튜닝 \n",
    "from sklearn.model_selection import RandomizedSearchCV\n",
    "from sklearn.model_selection import GridSearchCV\n",
    "\n",
    "from sklearn.model_selection import cross_val_score\n",
    "\n",
    "# 평가\n",
    "from sklearn.metrics import accuracy_score"
   ]
  },
  {
   "cell_type": "code",
   "execution_count": 30,
   "metadata": {
    "id": "qn7yQrNvL1xC"
   },
   "outputs": [],
   "source": [
    "\n",
    "# Split the data into training and testing sets\n",
    "\n",
    "#X = input_data[input_data.drop(columns=['outtrn_cumsum','HeatingEnergyUsage_cumsum']).columns]\n",
    "#Y = input_data[['outtrn_cumsum','HeatingEnergyUsage_cumsum']]\n",
    "#X_train, X_test, y_train, y_test = train_test_split(X, Y, test_size=0.2, random_state=42)\n",
    "\n",
    "# 데이터 분할 (훈련 세트와 테스트 세트)\n",
    "X = input_data[['ec', 'cunt', 'HeatingEnergyUsage_cumsum', 'hvstCo', 'frtstCo', 'HeatingEnergyUsage_cumsum', 'inTp', 'inHd', 'inCo2', 'acSlrdQy',\n",
    "             'grwtLt', 'frtstSetCo', 'hvstCo', 'FertilizerUsage', 'CO2Usage', 'MistUsageTime']]\n",
    "y = input_data[['outtrn_cumsum']]\n",
    "X_train, X_test, y_train, y_test = train_test_split(X, y, test_size=0.2, random_state=42)\n"
   ]
  },
  {
   "cell_type": "code",
   "execution_count": 31,
   "metadata": {
    "id": "1KIG8flwL1xD"
   },
   "outputs": [
    {
     "name": "stderr",
     "output_type": "stream",
     "text": [
      "C:\\Users\\ooooo\\anaconda3\\lib\\site-packages\\sklearn\\ensemble\\_voting.py:597: DataConversionWarning: A column-vector y was passed when a 1d array was expected. Please change the shape of y to (n_samples, ), for example using ravel().\n",
      "  y = column_or_1d(y, warn=True)\n"
     ]
    }
   ],
   "source": [
    "# Initialize and train model\n",
    "\n",
    "# 랜덤 포레스트 회귀 모델\n",
    "rf_model = RandomForestRegressor(\n",
    "    n_estimators=300,\n",
    "    min_samples_split=10,\n",
    "    min_samples_leaf=1,\n",
    "    max_depth=20,\n",
    "    random_state=42  # 필요한 경우 랜덤 시드 설정\n",
    ")\n",
    "\n",
    "# 그라디언트 부스팅 회귀 모델\n",
    "gb_model = GradientBoostingRegressor(random_state=42)\n",
    "\n",
    "# 앙상블 모델 생성 (랜덤 포레스트와 그라디언트 부스팅을 결합)\n",
    "ensemble_model = VotingRegressor(estimators=[('RandomForest', rf_model), ('GradientBoosting', gb_model)])\n",
    "\n",
    "# 앙상블 모델 학습\n",
    "ensemble_model.fit(X_train, y_train)\n",
    "\n",
    "# 앙상블 모델 예측\n",
    "ensemble_predictions = ensemble_model.predict(X_test)"
   ]
  },
  {
   "cell_type": "code",
   "execution_count": 32,
   "metadata": {
    "id": "n2Yj0TnnL1xD"
   },
   "outputs": [],
   "source": [
    "# Calculate RMSE between the predictions and actual 'y' values\n",
    "def calculate_rmse(targets, predictions):\n",
    "    \"\"\"\n",
    "    Calculate the Root Mean Squared Error (RMSE) between predicted and target values.\n",
    "\n",
    "    :param predictions: Predicted values.\n",
    "    :type predictions: array-like\n",
    "    :param targets: Target values.\n",
    "    :type targets: array-like\n",
    "    :return: RMSE value.\n",
    "    :rtype: float\n",
    "    \"\"\"\n",
    "    rmse_ = np.sqrt(mean_squared_error(targets, predictions)) \n",
    "    return rmse_\n",
    "\n",
    "# Calculate r2_score between the predictions and actual 'y' values\n",
    "def calculate_R2_score(y_test,y_pred):\n",
    "    r2_ = r2_score(y_test, y_pred)\n",
    "    return r2_ \n",
    "\n",
    "rmse = calculate_rmse(y_test, ensemble_predictions)\n",
    "r2score = calculate_R2_score(y_test, ensemble_predictions)"
   ]
  },
  {
   "cell_type": "code",
   "execution_count": 34,
   "metadata": {
    "id": "laJ8hu3YL1xD"
   },
   "outputs": [
    {
     "name": "stdout",
     "output_type": "stream",
     "text": [
      "RMSE: 32033.746060309655\n",
      "R2_score: 0.3243009655667558\n"
     ]
    }
   ],
   "source": [
    "### OUTPUT ###\n",
    "print(\"RMSE:\", rmse)\n",
    "print(\"R2_score:\", r2score)\n"
   ]
  }
 ],
 "metadata": {
  "colab": {
   "provenance": []
  },
  "kernelspec": {
   "display_name": "Python 3 (ipykernel)",
   "language": "python",
   "name": "python3"
  },
  "language_info": {
   "codemirror_mode": {
    "name": "ipython",
    "version": 3
   },
   "file_extension": ".py",
   "mimetype": "text/x-python",
   "name": "python",
   "nbconvert_exporter": "python",
   "pygments_lexer": "ipython3",
   "version": "3.10.9"
  }
 },
 "nbformat": 4,
 "nbformat_minor": 1
}
