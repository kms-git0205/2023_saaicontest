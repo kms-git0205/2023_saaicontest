{
 "cells": [
  {
   "cell_type": "code",
   "execution_count": 3,
   "metadata": {},
   "outputs": [
    {
     "data": {
      "text/plain": [
       "'\\n입출력 양식을 \\n준수해 주십시오\\n\\n###  INPUT ###\\nimport pandas as pd\\ninput_data = pd.read_csv(\\'2023_smartFarm_AI_hackathon_dataset.csv\\')\\n\\n{\\n    \\n        Write codes...\\n    \\n    Training model name : model\\n    ex) y_pred = model.predict(X_test)\\n    \\n\\n}\\n\\n\\n### OUTPUT ###\\nprint(\"RMSE:\", rmse)\\nprint(\"F1_score:\", f1score)\\n'"
      ]
     },
     "execution_count": 3,
     "metadata": {},
     "output_type": "execute_result"
    }
   ],
   "source": [
    "#  -------------------------------------------\n",
    "\"\"\"\n",
    "입출력 양식을 \n",
    "준수해 주십시오\n",
    "\n",
    "###  INPUT ###\n",
    "import pandas as pd\n",
    "input_data = pd.read_csv('2023_smartFarm_AI_hackathon_dataset.csv')\n",
    "\n",
    "{\n",
    "    \n",
    "        Write codes...\n",
    "    \n",
    "    Training model name : model\n",
    "    ex) y_pred = model.predict(X_test)\n",
    "    \n",
    "\n",
    "}\n",
    "\n",
    "\n",
    "### OUTPUT ###\n",
    "print(\"RMSE:\", rmse)\n",
    "print(\"R2_score:\", r2score)\n",
    "\"\"\""
   ]
  },
  {
   "cell_type": "code",
   "execution_count": null,
   "metadata": {},
   "outputs": [],
   "source": [
    "\n",
    "\n",
    "# ------------------------------------------------\n",
    "\n",
    "\n",
    "#      SAMPLE MODEL\n",
    "\n",
    "\n",
    "# ------------------------------------------------\n",
    "\n",
    "\n",
    "###  INPUT ###\n",
    "\"\"\"\n",
    "\n",
    "Read CSV files from the given list of file paths and return DataFrames.\n",
    "\n",
    "\"\"\"\n",
    "\n",
    "import pandas as pd\n",
    "\n",
    "input_data = pd.read_csv(\"2023_smartFarm_AI_hackathon_dataset.csv\")\n",
    "#  -------------------------------------------\n",
    "###    Write codes...  ###\n",
    "#      EXAMPLE CODE      #\n",
    "\n",
    "\n",
    "\n",
    "\n",
    "# Read CSV files from the lists of file paths\n",
    "\n",
    "\n",
    "# Now you have lists of DataFrames for each type of data \n",
    "\n",
    "import numpy as np\n",
    "from sklearn.model_selection import train_test_split\n",
    "from sklearn.linear_model import LinearRegression\n",
    "\n",
    "\n",
    "\n",
    "\n",
    "\n",
    "\n",
    "\n",
    "\n",
    "\n",
    "\n",
    "\n",
    "\n",
    "\n",
    "\n",
    "\n",
    "\n",
    "\n",
    "\n",
    "\n",
    "\n",
    "# ------------------------------------------------\n",
    "### OUTPUT ###\n",
    "print(\"RMSE:\", rmse)\n",
    "print(\"R2_score:\", r2score)\n"
   ]
  },
  {
   "cell_type": "code",
   "execution_count": null,
   "metadata": {},
   "outputs": [],
   "source": []
  }
 ],
 "metadata": {
  "kernelspec": {
   "display_name": "Python 3 (ipykernel)",
   "language": "python",
   "name": "python3"
  },
  "language_info": {
   "codemirror_mode": {
    "name": "ipython",
    "version": 3
   },
   "file_extension": ".py",
   "mimetype": "text/x-python",
   "name": "python",
   "nbconvert_exporter": "python",
   "pygments_lexer": "ipython3",
   "version": "3.10.9"
  }
 },
 "nbformat": 4,
 "nbformat_minor": 2
}
